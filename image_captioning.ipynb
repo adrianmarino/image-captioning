{
 "cells": [
  {
   "cell_type": "code",
   "execution_count": 1,
   "metadata": {},
   "outputs": [],
   "source": [
    "%load_ext autoreload\n",
    "%autoreload 2\n",
    "%matplotlib inline"
   ]
  },
  {
   "cell_type": "code",
   "execution_count": 20,
   "metadata": {},
   "outputs": [],
   "source": [
    "import numpy as np\n",
    "from numpy import array\n",
    "import matplotlib.pyplot as plt\n",
    "import os\n",
    "from pickle import dump, load\n",
    "\n",
    "from sklearn.model_selection import train_test_split\n",
    "\n",
    "from keras import Input, layers, optimizers\n",
    "from keras.models import Model\n",
    "from keras.layers import LSTM, Embedding, Dense,Dropout, LeakyReLU\n",
    "from keras.layers.merge import add\n",
    "from keras.optimizers import Adam\n",
    "from keras.utils import to_categorical\n",
    "\n",
    "from lib.data.flickr_dataset import FlickrDataset\n",
    "from lib.data.feature_vector_generator import FeatureVectorGenerator\n",
    "from lib.data.glove_word_embedding_generator import GloveWordEmbeddingGenerator\n",
    "from lib.data.generator.data_generator import DataGenerator\n",
    "\n",
    "from lib.model.model_wrapper import ModelWrapper\n",
    "from lib.model.metrics import rmse\n",
    "from lib.model.greedy_search import GreedySearch\n",
    "\n",
    "from lib.utils.word_utils import word_to_index_and_index_to_word\n",
    "from lib.utils.file_utils import create_directory\n",
    "\n",
    "from keras.callbacks import ModelCheckpoint\n",
    "from lib.callback.metric_plotter import MetricsPlotter\n",
    "from lib.callback.adam_learning_rate_tracker import AdamLearningRateTracker"
   ]
  },
  {
   "cell_type": "code",
   "execution_count": 21,
   "metadata": {},
   "outputs": [],
   "source": [
    "data_path = \"./dataset/data\"\n",
    "images_path = './dataset/images'\n",
    "word_embedding_path = './dataset/glove.6B.200d.txt'\n",
    "image_features_path = \"./img_features.pkl\""
   ]
  },
  {
   "cell_type": "code",
   "execution_count": 22,
   "metadata": {},
   "outputs": [
    {
     "name": "stdout",
     "output_type": "stream",
     "text": [
      "Max len desc: $ an africanamerican man wear green sweatshirt and blue vest be hold up dollar bill in front of his face while stand on busy sidewalk in front of group of man play instrument #\n"
     ]
    }
   ],
   "source": [
    "dataset = FlickrDataset(\n",
    "    data_path, \n",
    "    images_path,\n",
    "    desc_prefix='$', \n",
    "    desc_postfix='#',\n",
    "    clean_desc=True\n",
    ")"
   ]
  },
  {
   "cell_type": "code",
   "execution_count": 23,
   "metadata": {},
   "outputs": [
    {
     "name": "stdout",
     "output_type": "stream",
     "text": [
      "Train: 5663, Val: 2185, Test: 243\n"
     ]
    }
   ],
   "source": [
    "train_samples, remain_samples = train_test_split(dataset.samples(), test_size=0.3)\n",
    "val_samples, test_samples = train_test_split(remain_samples, test_size=0.1)\n",
    "print(f'Train: {len(train_samples)}, Val: {len(val_samples)}, Test: {len(test_samples)}')"
   ]
  },
  {
   "cell_type": "code",
   "execution_count": 24,
   "metadata": {},
   "outputs": [
    {
     "data": {
      "text/plain": [
       "('./dataset/images/2327088022_478dbd2c17.jpg',\n",
       " ['$ man climb an icy glacier with the assistance of pick #',\n",
       "  '$ man don an orange helmet be climb up white glacier #',\n",
       "  '$ man be chisel into ice #',\n",
       "  '$ mountain climber wear an orange helmet swing his axe #',\n",
       "  '$ an ice climber wear an orange helmet be hack the ice with his ice pick #'])"
      ]
     },
     "execution_count": 24,
     "metadata": {},
     "output_type": "execute_result"
    }
   ],
   "source": [
    "train_samples[0]"
   ]
  },
  {
   "cell_type": "code",
   "execution_count": 25,
   "metadata": {},
   "outputs": [],
   "source": [
    "if not os.path.isfile(image_features_path):\n",
    "    image_paths = list(dataset.samples().keys())\n",
    "    image_features = list(FeatureVectorGenerator().generate(image_paths))\n",
    "    with open(image_features_path, \"wb\") as encoded_pickle: dump(image_features, encoded_pickle)\n",
    "\n",
    "image_features = dict(load(open(image_features_path, \"rb\")))"
   ]
  },
  {
   "cell_type": "code",
   "execution_count": 26,
   "metadata": {},
   "outputs": [
    {
     "name": "stdout",
     "output_type": "stream",
     "text": [
      "('./dataset/images/1305564994_00513f9a5b.jpg', array([0.06508796, 0.0321871 , 0.02376986, ..., 0.38368654, 0.1991062 ,\n",
      "       0.23510437], dtype=float32))\n"
     ]
    }
   ],
   "source": [
    "print(list(image_features.items())[0])"
   ]
  },
  {
   "cell_type": "code",
   "execution_count": 27,
   "metadata": {},
   "outputs": [
    {
     "name": "stdout",
     "output_type": "stream",
     "text": [
      "Words(occurs>=10): 1593/6688\n"
     ]
    }
   ],
   "source": [
    "min_occurs=10\n",
    "vocabulary = dataset.words_set(min_occurs=10)\n",
    "vocabulary_size = len(vocabulary)\n",
    "complete_vocabulary_size = len(dataset.words_set())\n",
    "print(f'Words(occurs>={min_occurs}): {vocabulary_size}/{complete_vocabulary_size}')"
   ]
  },
  {
   "cell_type": "code",
   "execution_count": 28,
   "metadata": {},
   "outputs": [],
   "source": [
    "word_to_index, index_to_word = word_to_index_and_index_to_word(vocabulary)"
   ]
  },
  {
   "cell_type": "code",
   "execution_count": 29,
   "metadata": {},
   "outputs": [
    {
     "data": {
      "text/plain": [
       "1593"
      ]
     },
     "execution_count": 29,
     "metadata": {},
     "output_type": "execute_result"
    }
   ],
   "source": [
    "len(word_to_index)"
   ]
  },
  {
   "cell_type": "code",
   "execution_count": 30,
   "metadata": {},
   "outputs": [
    {
     "data": {
      "text/plain": [
       "174"
      ]
     },
     "execution_count": 30,
     "metadata": {},
     "output_type": "execute_result"
    }
   ],
   "source": [
    "dataset.max_desc_len()"
   ]
  },
  {
   "cell_type": "code",
   "execution_count": 32,
   "metadata": {},
   "outputs": [],
   "source": [
    "embedding_vector_dim = 200\n",
    "embedding_generator = GloveWordEmbeddingGenerator(word_embedding_path, embedding_vector_dim)"
   ]
  },
  {
   "cell_type": "code",
   "execution_count": 33,
   "metadata": {},
   "outputs": [],
   "source": [
    "embedding_matrix = embedding_generator.generate(word_to_index)"
   ]
  },
  {
   "cell_type": "code",
   "execution_count": 34,
   "metadata": {},
   "outputs": [
    {
     "data": {
      "text/plain": [
       "1593"
      ]
     },
     "execution_count": 34,
     "metadata": {},
     "output_type": "execute_result"
    }
   ],
   "source": [
    "len(embedding_matrix)"
   ]
  },
  {
   "cell_type": "code",
   "execution_count": 42,
   "metadata": {},
   "outputs": [],
   "source": [
    "def build_model(vocabulary_size, embedding_vector_dim, embedding_matrix, optimizer):\n",
    "    img_feat_input = Input(name=\"Image_Feature\", shape=(2048,))\n",
    "\n",
    "    img_branch = Dropout(0.5)(img_feat_input)\n",
    "    img_branch = Dense(512)(img_branch)\n",
    "    img_branch = LeakyReLU(alpha=0.05)(img_branch)\n",
    "\n",
    "    seq_input = Input(name=\"Description_Sequence\", shape=(dataset.max_desc_len(),))\n",
    "\n",
    "    seq_branch = Embedding(vocabulary_size, embedding_vector_dim, mask_zero=True)(seq_input)\n",
    "    seq_branch = Dropout(0.5)(seq_branch)\n",
    "    seq_branch = LSTM(512)(seq_branch)\n",
    "\n",
    "    decoder = add([img_branch, seq_branch])\n",
    "    decoder = Dense(512)(decoder)\n",
    "    decoder = LeakyReLU(alpha=0.05)(decoder)\n",
    "    \n",
    "    outputs = Dense(name=\"Words_Distribution\", units=vocabulary_size, activation='softmax')(decoder)\n",
    "\n",
    "    model = Model(inputs=[img_feat_input, seq_input], outputs=outputs)\n",
    "\n",
    "    model.layers[3].set_weights([embedding_matrix])\n",
    "    model.layers[3].trainable = False\n",
    "\n",
    "    model.compile(\n",
    "        loss='categorical_crossentropy', \n",
    "        optimizer=optimizer,\n",
    "        metrics=[rmse]\n",
    "    )\n",
    "\n",
    "    return ModelWrapper(model)"
   ]
  },
  {
   "cell_type": "code",
   "execution_count": 43,
   "metadata": {},
   "outputs": [],
   "source": [
    "weights_path = create_directory('weights') + '/weights__epoch_{epoch:02d}__loss_{val_loss:.4f}__rmse_{val_rmse:.4f}.h5'\n",
    "    \n",
    "checkpoint = ModelCheckpoint(\n",
    "    weights_path,\n",
    "    monitor='val_loss', \n",
    "    verbose=1,\n",
    "    save_best_only=True, \n",
    "    save_weights_only=True, \n",
    "    mode='auto',\n",
    "    period=1\n",
    ")\n",
    "\n",
    "lr_tracker = AdamLearningRateTracker()"
   ]
  },
  {
   "cell_type": "code",
   "execution_count": 44,
   "metadata": {},
   "outputs": [],
   "source": [
    "epochs, batch_size, lr = 6, 8, 0.001\n",
    "# epochs, batch_size, lr = 6, 16, 0.0001"
   ]
  },
  {
   "cell_type": "code",
   "execution_count": 45,
   "metadata": {},
   "outputs": [],
   "source": [
    "train_generator = DataGenerator(\n",
    "    train_samples,\n",
    "    image_features,\n",
    "    word_to_index,\n",
    "    index_to_word,\n",
    "    dataset.max_desc_len(), \n",
    "    vocabulary_size,\n",
    "    batch_size=batch_size\n",
    ")\n",
    "\n",
    "val_generator = DataGenerator(\n",
    "    val_samples,\n",
    "    image_features,\n",
    "    word_to_index,\n",
    "    index_to_word,\n",
    "    dataset.max_desc_len(), \n",
    "    vocabulary_size,\n",
    "    batch_size=batch_size\n",
    ")"
   ]
  },
  {
   "cell_type": "code",
   "execution_count": 49,
   "metadata": {},
   "outputs": [
    {
     "name": "stdout",
     "output_type": "stream",
     "text": [
      "\n",
      "\n",
      "Metrics: ['loss', 'rmse']\n",
      "__________________________________________________________________________________________________\n",
      "Layer (type)                    Output Shape         Param #     Connected to                     \n",
      "==================================================================================================\n",
      "Image_Feature (InputLayer)      (None, 2048)         0                                            \n",
      "__________________________________________________________________________________________________\n",
      "Description_Sequence (InputLaye (None, 174)          0                                            \n",
      "__________________________________________________________________________________________________\n",
      "dropout_7 (Dropout)             (None, 2048)         0           Image_Feature[0][0]              \n",
      "__________________________________________________________________________________________________\n",
      "embedding_4 (Embedding)         (None, 174, 200)     318600      Description_Sequence[0][0]       \n",
      "__________________________________________________________________________________________________\n",
      "dense_7 (Dense)                 (None, 512)          1049088     dropout_7[0][0]                  \n",
      "__________________________________________________________________________________________________\n",
      "dropout_8 (Dropout)             (None, 174, 200)     0           embedding_4[0][0]                \n",
      "__________________________________________________________________________________________________\n",
      "leaky_re_lu_7 (LeakyReLU)       (None, 512)          0           dense_7[0][0]                    \n",
      "__________________________________________________________________________________________________\n",
      "lstm_4 (LSTM)                   (None, 512)          1460224     dropout_8[0][0]                  \n",
      "__________________________________________________________________________________________________\n",
      "add_4 (Add)                     (None, 512)          0           leaky_re_lu_7[0][0]              \n",
      "                                                                 lstm_4[0][0]                     \n",
      "__________________________________________________________________________________________________\n",
      "dense_8 (Dense)                 (None, 512)          262656      add_4[0][0]                      \n",
      "__________________________________________________________________________________________________\n",
      "leaky_re_lu_8 (LeakyReLU)       (None, 512)          0           dense_8[0][0]                    \n",
      "__________________________________________________________________________________________________\n",
      "Words_Distribution (Dense)      (None, 1593)         817209      leaky_re_lu_8[0][0]              \n",
      "==================================================================================================\n",
      "Total params: 3,907,777\n",
      "Trainable params: 3,589,177\n",
      "Non-trainable params: 318,600\n",
      "__________________________________________________________________________________________________\n"
     ]
    },
    {
     "data": {
      "image/svg+xml": [
       "<svg height=\"636pt\" viewBox=\"0.00 0.00 854.00 636.00\" width=\"854pt\" xmlns=\"http://www.w3.org/2000/svg\" xmlns:xlink=\"http://www.w3.org/1999/xlink\">\n",
       "<g class=\"graph\" id=\"graph0\" transform=\"scale(1 1) rotate(0) translate(4 632)\">\n",
       "<title>G</title>\n",
       "<polygon fill=\"white\" points=\"-4,4 -4,-632 850,-632 850,4 -4,4\" stroke=\"none\"/>\n",
       "<!-- 140085577217976 -->\n",
       "<g class=\"node\" id=\"node1\"><title>140085577217976</title>\n",
       "<polygon fill=\"none\" points=\"0,-581.5 0,-627.5 393,-627.5 393,-581.5 0,-581.5\" stroke=\"black\"/>\n",
       "<text font-family=\"Times,serif\" font-size=\"14.00\" text-anchor=\"middle\" x=\"107.5\" y=\"-600.8\">Image_Feature: InputLayer</text>\n",
       "<polyline fill=\"none\" points=\"215,-581.5 215,-627.5 \" stroke=\"black\"/>\n",
       "<text font-family=\"Times,serif\" font-size=\"14.00\" text-anchor=\"middle\" x=\"249\" y=\"-612.3\">input:</text>\n",
       "<polyline fill=\"none\" points=\"215,-604.5 283,-604.5 \" stroke=\"black\"/>\n",
       "<text font-family=\"Times,serif\" font-size=\"14.00\" text-anchor=\"middle\" x=\"249\" y=\"-589.3\">output:</text>\n",
       "<polyline fill=\"none\" points=\"283,-581.5 283,-627.5 \" stroke=\"black\"/>\n",
       "<text font-family=\"Times,serif\" font-size=\"14.00\" text-anchor=\"middle\" x=\"338\" y=\"-612.3\">(None, 2048)</text>\n",
       "<polyline fill=\"none\" points=\"283,-604.5 393,-604.5 \" stroke=\"black\"/>\n",
       "<text font-family=\"Times,serif\" font-size=\"14.00\" text-anchor=\"middle\" x=\"338\" y=\"-589.3\">(None, 2048)</text>\n",
       "</g>\n",
       "<!-- 140083184696288 -->\n",
       "<g class=\"node\" id=\"node3\"><title>140083184696288</title>\n",
       "<polygon fill=\"none\" points=\"39,-498.5 39,-544.5 374,-544.5 374,-498.5 39,-498.5\" stroke=\"black\"/>\n",
       "<text font-family=\"Times,serif\" font-size=\"14.00\" text-anchor=\"middle\" x=\"117.5\" y=\"-517.8\">dropout_7: Dropout</text>\n",
       "<polyline fill=\"none\" points=\"196,-498.5 196,-544.5 \" stroke=\"black\"/>\n",
       "<text font-family=\"Times,serif\" font-size=\"14.00\" text-anchor=\"middle\" x=\"230\" y=\"-529.3\">input:</text>\n",
       "<polyline fill=\"none\" points=\"196,-521.5 264,-521.5 \" stroke=\"black\"/>\n",
       "<text font-family=\"Times,serif\" font-size=\"14.00\" text-anchor=\"middle\" x=\"230\" y=\"-506.3\">output:</text>\n",
       "<polyline fill=\"none\" points=\"264,-498.5 264,-544.5 \" stroke=\"black\"/>\n",
       "<text font-family=\"Times,serif\" font-size=\"14.00\" text-anchor=\"middle\" x=\"319\" y=\"-529.3\">(None, 2048)</text>\n",
       "<polyline fill=\"none\" points=\"264,-521.5 374,-521.5 \" stroke=\"black\"/>\n",
       "<text font-family=\"Times,serif\" font-size=\"14.00\" text-anchor=\"middle\" x=\"319\" y=\"-506.3\">(None, 2048)</text>\n",
       "</g>\n",
       "<!-- 140085577217976&#45;&gt;140083184696288 -->\n",
       "<g class=\"edge\" id=\"edge1\"><title>140085577217976-&gt;140083184696288</title>\n",
       "<path d=\"M199.233,-581.366C200.247,-573.152 201.419,-563.658 202.522,-554.725\" fill=\"none\" stroke=\"black\"/>\n",
       "<polygon fill=\"black\" points=\"206.019,-554.96 203.771,-544.607 199.072,-554.103 206.019,-554.96\" stroke=\"black\"/>\n",
       "</g>\n",
       "<!-- 140084790611920 -->\n",
       "<g class=\"node\" id=\"node2\"><title>140084790611920</title>\n",
       "<polygon fill=\"none\" points=\"411,-581.5 411,-627.5 846,-627.5 846,-581.5 411,-581.5\" stroke=\"black\"/>\n",
       "<text font-family=\"Times,serif\" font-size=\"14.00\" text-anchor=\"middle\" x=\"544\" y=\"-600.8\">Description_Sequence: InputLayer</text>\n",
       "<polyline fill=\"none\" points=\"677,-581.5 677,-627.5 \" stroke=\"black\"/>\n",
       "<text font-family=\"Times,serif\" font-size=\"14.00\" text-anchor=\"middle\" x=\"711\" y=\"-612.3\">input:</text>\n",
       "<polyline fill=\"none\" points=\"677,-604.5 745,-604.5 \" stroke=\"black\"/>\n",
       "<text font-family=\"Times,serif\" font-size=\"14.00\" text-anchor=\"middle\" x=\"711\" y=\"-589.3\">output:</text>\n",
       "<polyline fill=\"none\" points=\"745,-581.5 745,-627.5 \" stroke=\"black\"/>\n",
       "<text font-family=\"Times,serif\" font-size=\"14.00\" text-anchor=\"middle\" x=\"795.5\" y=\"-612.3\">(None, 174)</text>\n",
       "<polyline fill=\"none\" points=\"745,-604.5 846,-604.5 \" stroke=\"black\"/>\n",
       "<text font-family=\"Times,serif\" font-size=\"14.00\" text-anchor=\"middle\" x=\"795.5\" y=\"-589.3\">(None, 174)</text>\n",
       "</g>\n",
       "<!-- 140084790880856 -->\n",
       "<g class=\"node\" id=\"node4\"><title>140084790880856</title>\n",
       "<polygon fill=\"none\" points=\"413.5,-498.5 413.5,-544.5 821.5,-544.5 821.5,-498.5 413.5,-498.5\" stroke=\"black\"/>\n",
       "<text font-family=\"Times,serif\" font-size=\"14.00\" text-anchor=\"middle\" x=\"515\" y=\"-517.8\">embedding_4: Embedding</text>\n",
       "<polyline fill=\"none\" points=\"616.5,-498.5 616.5,-544.5 \" stroke=\"black\"/>\n",
       "<text font-family=\"Times,serif\" font-size=\"14.00\" text-anchor=\"middle\" x=\"650.5\" y=\"-529.3\">input:</text>\n",
       "<polyline fill=\"none\" points=\"616.5,-521.5 684.5,-521.5 \" stroke=\"black\"/>\n",
       "<text font-family=\"Times,serif\" font-size=\"14.00\" text-anchor=\"middle\" x=\"650.5\" y=\"-506.3\">output:</text>\n",
       "<polyline fill=\"none\" points=\"684.5,-498.5 684.5,-544.5 \" stroke=\"black\"/>\n",
       "<text font-family=\"Times,serif\" font-size=\"14.00\" text-anchor=\"middle\" x=\"753\" y=\"-529.3\">(None, 174)</text>\n",
       "<polyline fill=\"none\" points=\"684.5,-521.5 821.5,-521.5 \" stroke=\"black\"/>\n",
       "<text font-family=\"Times,serif\" font-size=\"14.00\" text-anchor=\"middle\" x=\"753\" y=\"-506.3\">(None, 174, 200)</text>\n",
       "</g>\n",
       "<!-- 140084790611920&#45;&gt;140084790880856 -->\n",
       "<g class=\"edge\" id=\"edge2\"><title>140084790611920-&gt;140084790880856</title>\n",
       "<path d=\"M625.494,-581.366C624.379,-573.152 623.089,-563.658 621.876,-554.725\" fill=\"none\" stroke=\"black\"/>\n",
       "<polygon fill=\"black\" points=\"625.316,-554.045 620.502,-544.607 618.38,-554.987 625.316,-554.045\" stroke=\"black\"/>\n",
       "</g>\n",
       "<!-- 140084253203760 -->\n",
       "<g class=\"node\" id=\"node5\"><title>140084253203760</title>\n",
       "<polygon fill=\"none\" points=\"75.5,-415.5 75.5,-461.5 381.5,-461.5 381.5,-415.5 75.5,-415.5\" stroke=\"black\"/>\n",
       "<text font-family=\"Times,serif\" font-size=\"14.00\" text-anchor=\"middle\" x=\"139.5\" y=\"-434.8\">dense_7: Dense</text>\n",
       "<polyline fill=\"none\" points=\"203.5,-415.5 203.5,-461.5 \" stroke=\"black\"/>\n",
       "<text font-family=\"Times,serif\" font-size=\"14.00\" text-anchor=\"middle\" x=\"237.5\" y=\"-446.3\">input:</text>\n",
       "<polyline fill=\"none\" points=\"203.5,-438.5 271.5,-438.5 \" stroke=\"black\"/>\n",
       "<text font-family=\"Times,serif\" font-size=\"14.00\" text-anchor=\"middle\" x=\"237.5\" y=\"-423.3\">output:</text>\n",
       "<polyline fill=\"none\" points=\"271.5,-415.5 271.5,-461.5 \" stroke=\"black\"/>\n",
       "<text font-family=\"Times,serif\" font-size=\"14.00\" text-anchor=\"middle\" x=\"326.5\" y=\"-446.3\">(None, 2048)</text>\n",
       "<polyline fill=\"none\" points=\"271.5,-438.5 381.5,-438.5 \" stroke=\"black\"/>\n",
       "<text font-family=\"Times,serif\" font-size=\"14.00\" text-anchor=\"middle\" x=\"326.5\" y=\"-423.3\">(None, 512)</text>\n",
       "</g>\n",
       "<!-- 140083184696288&#45;&gt;140084253203760 -->\n",
       "<g class=\"edge\" id=\"edge3\"><title>140083184696288-&gt;140084253203760</title>\n",
       "<path d=\"M212.512,-498.366C214.767,-490.062 217.377,-480.451 219.827,-471.434\" fill=\"none\" stroke=\"black\"/>\n",
       "<polygon fill=\"black\" points=\"223.252,-472.175 222.496,-461.607 216.497,-470.34 223.252,-472.175\" stroke=\"black\"/>\n",
       "</g>\n",
       "<!-- 140084790879288 -->\n",
       "<g class=\"node\" id=\"node6\"><title>140084790879288</title>\n",
       "<polygon fill=\"none\" points=\"433.5,-415.5 433.5,-461.5 795.5,-461.5 795.5,-415.5 433.5,-415.5\" stroke=\"black\"/>\n",
       "<text font-family=\"Times,serif\" font-size=\"14.00\" text-anchor=\"middle\" x=\"512\" y=\"-434.8\">dropout_8: Dropout</text>\n",
       "<polyline fill=\"none\" points=\"590.5,-415.5 590.5,-461.5 \" stroke=\"black\"/>\n",
       "<text font-family=\"Times,serif\" font-size=\"14.00\" text-anchor=\"middle\" x=\"624.5\" y=\"-446.3\">input:</text>\n",
       "<polyline fill=\"none\" points=\"590.5,-438.5 658.5,-438.5 \" stroke=\"black\"/>\n",
       "<text font-family=\"Times,serif\" font-size=\"14.00\" text-anchor=\"middle\" x=\"624.5\" y=\"-423.3\">output:</text>\n",
       "<polyline fill=\"none\" points=\"658.5,-415.5 658.5,-461.5 \" stroke=\"black\"/>\n",
       "<text font-family=\"Times,serif\" font-size=\"14.00\" text-anchor=\"middle\" x=\"727\" y=\"-446.3\">(None, 174, 200)</text>\n",
       "<polyline fill=\"none\" points=\"658.5,-438.5 795.5,-438.5 \" stroke=\"black\"/>\n",
       "<text font-family=\"Times,serif\" font-size=\"14.00\" text-anchor=\"middle\" x=\"727\" y=\"-423.3\">(None, 174, 200)</text>\n",
       "</g>\n",
       "<!-- 140084790880856&#45;&gt;140084790879288 -->\n",
       "<g class=\"edge\" id=\"edge4\"><title>140084790880856-&gt;140084790879288</title>\n",
       "<path d=\"M616.68,-498.366C616.376,-490.152 616.024,-480.658 615.694,-471.725\" fill=\"none\" stroke=\"black\"/>\n",
       "<polygon fill=\"black\" points=\"619.187,-471.47 615.319,-461.607 612.191,-471.73 619.187,-471.47\" stroke=\"black\"/>\n",
       "</g>\n",
       "<!-- 140084790608280 -->\n",
       "<g class=\"node\" id=\"node7\"><title>140084790608280</title>\n",
       "<polygon fill=\"none\" points=\"45.5,-332.5 45.5,-378.5 421.5,-378.5 421.5,-332.5 45.5,-332.5\" stroke=\"black\"/>\n",
       "<text font-family=\"Times,serif\" font-size=\"14.00\" text-anchor=\"middle\" x=\"149\" y=\"-351.8\">leaky_re_lu_7: LeakyReLU</text>\n",
       "<polyline fill=\"none\" points=\"252.5,-332.5 252.5,-378.5 \" stroke=\"black\"/>\n",
       "<text font-family=\"Times,serif\" font-size=\"14.00\" text-anchor=\"middle\" x=\"286.5\" y=\"-363.3\">input:</text>\n",
       "<polyline fill=\"none\" points=\"252.5,-355.5 320.5,-355.5 \" stroke=\"black\"/>\n",
       "<text font-family=\"Times,serif\" font-size=\"14.00\" text-anchor=\"middle\" x=\"286.5\" y=\"-340.3\">output:</text>\n",
       "<polyline fill=\"none\" points=\"320.5,-332.5 320.5,-378.5 \" stroke=\"black\"/>\n",
       "<text font-family=\"Times,serif\" font-size=\"14.00\" text-anchor=\"middle\" x=\"371\" y=\"-363.3\">(None, 512)</text>\n",
       "<polyline fill=\"none\" points=\"320.5,-355.5 421.5,-355.5 \" stroke=\"black\"/>\n",
       "<text font-family=\"Times,serif\" font-size=\"14.00\" text-anchor=\"middle\" x=\"371\" y=\"-340.3\">(None, 512)</text>\n",
       "</g>\n",
       "<!-- 140084253203760&#45;&gt;140084790608280 -->\n",
       "<g class=\"edge\" id=\"edge5\"><title>140084253203760-&gt;140084790608280</title>\n",
       "<path d=\"M229.866,-415.366C230.373,-407.152 230.959,-397.658 231.511,-388.725\" fill=\"none\" stroke=\"black\"/>\n",
       "<polygon fill=\"black\" points=\"235.013,-388.804 232.135,-378.607 228.026,-388.372 235.013,-388.804\" stroke=\"black\"/>\n",
       "</g>\n",
       "<!-- 140084253154608 -->\n",
       "<g class=\"node\" id=\"node8\"><title>140084253154608</title>\n",
       "<polygon fill=\"none\" points=\"443,-332.5 443,-378.5 764,-378.5 764,-332.5 443,-332.5\" stroke=\"black\"/>\n",
       "<text font-family=\"Times,serif\" font-size=\"14.00\" text-anchor=\"middle\" x=\"501\" y=\"-351.8\">lstm_4: LSTM</text>\n",
       "<polyline fill=\"none\" points=\"559,-332.5 559,-378.5 \" stroke=\"black\"/>\n",
       "<text font-family=\"Times,serif\" font-size=\"14.00\" text-anchor=\"middle\" x=\"593\" y=\"-363.3\">input:</text>\n",
       "<polyline fill=\"none\" points=\"559,-355.5 627,-355.5 \" stroke=\"black\"/>\n",
       "<text font-family=\"Times,serif\" font-size=\"14.00\" text-anchor=\"middle\" x=\"593\" y=\"-340.3\">output:</text>\n",
       "<polyline fill=\"none\" points=\"627,-332.5 627,-378.5 \" stroke=\"black\"/>\n",
       "<text font-family=\"Times,serif\" font-size=\"14.00\" text-anchor=\"middle\" x=\"695.5\" y=\"-363.3\">(None, 174, 200)</text>\n",
       "<polyline fill=\"none\" points=\"627,-355.5 764,-355.5 \" stroke=\"black\"/>\n",
       "<text font-family=\"Times,serif\" font-size=\"14.00\" text-anchor=\"middle\" x=\"695.5\" y=\"-340.3\">(None, 512)</text>\n",
       "</g>\n",
       "<!-- 140084790879288&#45;&gt;140084253154608 -->\n",
       "<g class=\"edge\" id=\"edge6\"><title>140084790879288-&gt;140084253154608</title>\n",
       "<path d=\"M611.494,-415.366C610.379,-407.152 609.089,-397.658 607.876,-388.725\" fill=\"none\" stroke=\"black\"/>\n",
       "<polygon fill=\"black\" points=\"611.316,-388.045 606.502,-378.607 604.38,-388.987 611.316,-388.045\" stroke=\"black\"/>\n",
       "</g>\n",
       "<!-- 140083184579248 -->\n",
       "<g class=\"node\" id=\"node9\"><title>140083184579248</title>\n",
       "<polygon fill=\"none\" points=\"233,-249.5 233,-295.5 604,-295.5 604,-249.5 233,-249.5\" stroke=\"black\"/>\n",
       "<text font-family=\"Times,serif\" font-size=\"14.00\" text-anchor=\"middle\" x=\"281.5\" y=\"-268.8\">add_4: Add</text>\n",
       "<polyline fill=\"none\" points=\"330,-249.5 330,-295.5 \" stroke=\"black\"/>\n",
       "<text font-family=\"Times,serif\" font-size=\"14.00\" text-anchor=\"middle\" x=\"364\" y=\"-280.3\">input:</text>\n",
       "<polyline fill=\"none\" points=\"330,-272.5 398,-272.5 \" stroke=\"black\"/>\n",
       "<text font-family=\"Times,serif\" font-size=\"14.00\" text-anchor=\"middle\" x=\"364\" y=\"-257.3\">output:</text>\n",
       "<polyline fill=\"none\" points=\"398,-249.5 398,-295.5 \" stroke=\"black\"/>\n",
       "<text font-family=\"Times,serif\" font-size=\"14.00\" text-anchor=\"middle\" x=\"501\" y=\"-280.3\">[(None, 512), (None, 512)]</text>\n",
       "<polyline fill=\"none\" points=\"398,-272.5 604,-272.5 \" stroke=\"black\"/>\n",
       "<text font-family=\"Times,serif\" font-size=\"14.00\" text-anchor=\"middle\" x=\"501\" y=\"-257.3\">(None, 512)</text>\n",
       "</g>\n",
       "<!-- 140084790608280&#45;&gt;140083184579248 -->\n",
       "<g class=\"edge\" id=\"edge7\"><title>140084790608280-&gt;140083184579248</title>\n",
       "<path d=\"M284.052,-332.366C307.097,-322.277 334.548,-310.257 358.62,-299.718\" fill=\"none\" stroke=\"black\"/>\n",
       "<polygon fill=\"black\" points=\"360.252,-302.824 368.009,-295.607 357.445,-296.412 360.252,-302.824\" stroke=\"black\"/>\n",
       "</g>\n",
       "<!-- 140084253154608&#45;&gt;140083184579248 -->\n",
       "<g class=\"edge\" id=\"edge8\"><title>140084253154608-&gt;140083184579248</title>\n",
       "<path d=\"M552.948,-332.366C529.903,-322.277 502.452,-310.257 478.38,-299.718\" fill=\"none\" stroke=\"black\"/>\n",
       "<polygon fill=\"black\" points=\"479.555,-296.412 468.991,-295.607 476.748,-302.824 479.555,-296.412\" stroke=\"black\"/>\n",
       "</g>\n",
       "<!-- 140083184616280 -->\n",
       "<g class=\"node\" id=\"node10\"><title>140083184616280</title>\n",
       "<polygon fill=\"none\" points=\"270,-166.5 270,-212.5 567,-212.5 567,-166.5 270,-166.5\" stroke=\"black\"/>\n",
       "<text font-family=\"Times,serif\" font-size=\"14.00\" text-anchor=\"middle\" x=\"334\" y=\"-185.8\">dense_8: Dense</text>\n",
       "<polyline fill=\"none\" points=\"398,-166.5 398,-212.5 \" stroke=\"black\"/>\n",
       "<text font-family=\"Times,serif\" font-size=\"14.00\" text-anchor=\"middle\" x=\"432\" y=\"-197.3\">input:</text>\n",
       "<polyline fill=\"none\" points=\"398,-189.5 466,-189.5 \" stroke=\"black\"/>\n",
       "<text font-family=\"Times,serif\" font-size=\"14.00\" text-anchor=\"middle\" x=\"432\" y=\"-174.3\">output:</text>\n",
       "<polyline fill=\"none\" points=\"466,-166.5 466,-212.5 \" stroke=\"black\"/>\n",
       "<text font-family=\"Times,serif\" font-size=\"14.00\" text-anchor=\"middle\" x=\"516.5\" y=\"-197.3\">(None, 512)</text>\n",
       "<polyline fill=\"none\" points=\"466,-189.5 567,-189.5 \" stroke=\"black\"/>\n",
       "<text font-family=\"Times,serif\" font-size=\"14.00\" text-anchor=\"middle\" x=\"516.5\" y=\"-174.3\">(None, 512)</text>\n",
       "</g>\n",
       "<!-- 140083184579248&#45;&gt;140083184616280 -->\n",
       "<g class=\"edge\" id=\"edge9\"><title>140083184579248-&gt;140083184616280</title>\n",
       "<path d=\"M418.5,-249.366C418.5,-241.152 418.5,-231.658 418.5,-222.725\" fill=\"none\" stroke=\"black\"/>\n",
       "<polygon fill=\"black\" points=\"422,-222.607 418.5,-212.607 415,-222.607 422,-222.607\" stroke=\"black\"/>\n",
       "</g>\n",
       "<!-- 140083191940320 -->\n",
       "<g class=\"node\" id=\"node11\"><title>140083191940320</title>\n",
       "<polygon fill=\"none\" points=\"230.5,-83.5 230.5,-129.5 606.5,-129.5 606.5,-83.5 230.5,-83.5\" stroke=\"black\"/>\n",
       "<text font-family=\"Times,serif\" font-size=\"14.00\" text-anchor=\"middle\" x=\"334\" y=\"-102.8\">leaky_re_lu_8: LeakyReLU</text>\n",
       "<polyline fill=\"none\" points=\"437.5,-83.5 437.5,-129.5 \" stroke=\"black\"/>\n",
       "<text font-family=\"Times,serif\" font-size=\"14.00\" text-anchor=\"middle\" x=\"471.5\" y=\"-114.3\">input:</text>\n",
       "<polyline fill=\"none\" points=\"437.5,-106.5 505.5,-106.5 \" stroke=\"black\"/>\n",
       "<text font-family=\"Times,serif\" font-size=\"14.00\" text-anchor=\"middle\" x=\"471.5\" y=\"-91.3\">output:</text>\n",
       "<polyline fill=\"none\" points=\"505.5,-83.5 505.5,-129.5 \" stroke=\"black\"/>\n",
       "<text font-family=\"Times,serif\" font-size=\"14.00\" text-anchor=\"middle\" x=\"556\" y=\"-114.3\">(None, 512)</text>\n",
       "<polyline fill=\"none\" points=\"505.5,-106.5 606.5,-106.5 \" stroke=\"black\"/>\n",
       "<text font-family=\"Times,serif\" font-size=\"14.00\" text-anchor=\"middle\" x=\"556\" y=\"-91.3\">(None, 512)</text>\n",
       "</g>\n",
       "<!-- 140083184616280&#45;&gt;140083191940320 -->\n",
       "<g class=\"edge\" id=\"edge10\"><title>140083184616280-&gt;140083191940320</title>\n",
       "<path d=\"M418.5,-166.366C418.5,-158.152 418.5,-148.658 418.5,-139.725\" fill=\"none\" stroke=\"black\"/>\n",
       "<polygon fill=\"black\" points=\"422,-139.607 418.5,-129.607 415,-139.607 422,-139.607\" stroke=\"black\"/>\n",
       "</g>\n",
       "<!-- 140083191940376 -->\n",
       "<g class=\"node\" id=\"node12\"><title>140083191940376</title>\n",
       "<polygon fill=\"none\" points=\"224.5,-0.5 224.5,-46.5 612.5,-46.5 612.5,-0.5 224.5,-0.5\" stroke=\"black\"/>\n",
       "<text font-family=\"Times,serif\" font-size=\"14.00\" text-anchor=\"middle\" x=\"329.5\" y=\"-19.8\">Words_Distribution: Dense</text>\n",
       "<polyline fill=\"none\" points=\"434.5,-0.5 434.5,-46.5 \" stroke=\"black\"/>\n",
       "<text font-family=\"Times,serif\" font-size=\"14.00\" text-anchor=\"middle\" x=\"468.5\" y=\"-31.3\">input:</text>\n",
       "<polyline fill=\"none\" points=\"434.5,-23.5 502.5,-23.5 \" stroke=\"black\"/>\n",
       "<text font-family=\"Times,serif\" font-size=\"14.00\" text-anchor=\"middle\" x=\"468.5\" y=\"-8.3\">output:</text>\n",
       "<polyline fill=\"none\" points=\"502.5,-0.5 502.5,-46.5 \" stroke=\"black\"/>\n",
       "<text font-family=\"Times,serif\" font-size=\"14.00\" text-anchor=\"middle\" x=\"557.5\" y=\"-31.3\">(None, 512)</text>\n",
       "<polyline fill=\"none\" points=\"502.5,-23.5 612.5,-23.5 \" stroke=\"black\"/>\n",
       "<text font-family=\"Times,serif\" font-size=\"14.00\" text-anchor=\"middle\" x=\"557.5\" y=\"-8.3\">(None, 1593)</text>\n",
       "</g>\n",
       "<!-- 140083191940320&#45;&gt;140083191940376 -->\n",
       "<g class=\"edge\" id=\"edge11\"><title>140083191940320-&gt;140083191940376</title>\n",
       "<path d=\"M418.5,-83.3664C418.5,-75.1516 418.5,-65.6579 418.5,-56.7252\" fill=\"none\" stroke=\"black\"/>\n",
       "<polygon fill=\"black\" points=\"422,-56.6068 418.5,-46.6068 415,-56.6069 422,-56.6068\" stroke=\"black\"/>\n",
       "</g>\n",
       "</g>\n",
       "</svg>"
      ],
      "text/plain": [
       "<IPython.core.display.SVG object>"
      ]
     },
     "metadata": {},
     "output_type": "display_data"
    }
   ],
   "source": [
    "model = build_model(vocabulary_size, embedding_vector_dim, embedding_matrix, Adam(lr=lr))\n",
    "model.show()"
   ]
  },
  {
   "cell_type": "code",
   "execution_count": 50,
   "metadata": {},
   "outputs": [],
   "source": [
    "# model.load('weights/weights__epoch_07__loss_3.3835__rmse_0.0229.h5')"
   ]
  },
  {
   "cell_type": "code",
   "execution_count": null,
   "metadata": {},
   "outputs": [
    {
     "name": "stdout",
     "output_type": "stream",
     "text": [
      "Epoch 1/6\n",
      "  1/707 [..............................] - ETA: 11:18 - loss: 5.4706 - rmse: 0.0247\n",
      "\n",
      "Learning rate (4): 0.001000000047497 (=)\n",
      "\n",
      "\n",
      "Evaluate model (Each 30 steps):\n",
      "369/369 [==============================] - 3s 8ms/step\n",
      "\n",
      "Continue model train:\n",
      " 14/707 [..............................] - ETA: 8:06 - loss: 5.3323 - rmse: 0.0246"
     ]
    }
   ],
   "source": [
    "model.fit(\n",
    "    train_generator,\n",
    "    val_generator,\n",
    "    epochs=epochs,\n",
    "    steps_per_epoch=len(train_samples)/batch_size,\n",
    "    callbacks=[\n",
    "        checkpoint,\n",
    "        lr_tracker,\n",
    "        MetricsPlotter(val_generator, plot_interval=30, evaluate_interval=30, batch_size=batch_size)\n",
    "    ]\n",
    ")"
   ]
  },
  {
   "cell_type": "code",
   "execution_count": null,
   "metadata": {},
   "outputs": [],
   "source": [
    "search = GreedySearch(model, word_to_index, index_to_word, '$', '#', dataset.max_desc_len())\n",
    "\n",
    "image_path = test_samples[0][0]\n",
    "\n",
    "show_sample(\n",
    "    image_path,\n",
    "    description=search.perform( image_features[image_path])\n",
    ")"
   ]
  }
 ],
 "metadata": {
  "kernelspec": {
   "display_name": "Python 3",
   "language": "python",
   "name": "python3"
  },
  "language_info": {
   "codemirror_mode": {
    "name": "ipython",
    "version": 3
   },
   "file_extension": ".py",
   "mimetype": "text/x-python",
   "name": "python",
   "nbconvert_exporter": "python",
   "pygments_lexer": "ipython3",
   "version": "3.6.0"
  }
 },
 "nbformat": 4,
 "nbformat_minor": 2
}

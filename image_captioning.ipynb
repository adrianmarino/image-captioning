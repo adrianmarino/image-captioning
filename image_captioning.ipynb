{
 "cells": [
  {
   "cell_type": "code",
   "execution_count": 1,
   "metadata": {},
   "outputs": [],
   "source": [
    "%load_ext autoreload\n",
    "%autoreload 2\n",
    "%matplotlib inline"
   ]
  },
  {
   "cell_type": "code",
   "execution_count": 2,
   "metadata": {},
   "outputs": [
    {
     "name": "stderr",
     "output_type": "stream",
     "text": [
      "Using TensorFlow backend.\n"
     ]
    }
   ],
   "source": [
    "import numpy as np\n",
    "from numpy import array\n",
    "import matplotlib.pyplot as plt\n",
    "import os\n",
    "from pickle import dump, load\n",
    "\n",
    "from sklearn.model_selection import train_test_split\n",
    "\n",
    "from keras import Input, layers, optimizers\n",
    "\n",
    "from keras.preprocessing import sequence, image\n",
    "from keras.preprocessing.text import Tokenizer\n",
    "from keras.preprocessing.sequence import pad_sequences\n",
    "\n",
    "from keras.models import Sequential, Model\n",
    "\n",
    "from keras.layers import LSTM, Embedding, TimeDistributed, Dense, RepeatVector,\\\n",
    "                         Activation, Flatten, Reshape, concatenate, Dropout, BatchNormalization\n",
    "from keras.layers.wrappers import Bidirectional\n",
    "from keras.layers.merge import add\n",
    "\n",
    "from keras.optimizers import Adam, RMSprop\n",
    "from keras.utils import to_categorical\n",
    "\n",
    "from lib.data.flickr_dataset import FlickrDataset\n",
    "from lib.data.feature_vector_generator import FeatureVectorGenerator\n",
    "from lib.data.glove_word_embedding_generator import GloveWordEmbeddingGenerator\n",
    "from lib.data.generator.data_generator import DataGenerator\n",
    "\n",
    "from lib.model.model_wrapper import ModelWrapper\n",
    "from lib.model.metrics import rmse\n",
    "from lib.model.greedy_search import GreedySearch\n",
    "\n",
    "from lib.utils.word_utils import word_to_index_and_index_to_word\n",
    "from lib.utils.file_utils import create_directory\n",
    "\n",
    "from keras.callbacks import ModelCheckpoint\n",
    "from lib.callback.metric_plotter import MetricsPlotter"
   ]
  },
  {
   "cell_type": "code",
   "execution_count": 3,
   "metadata": {},
   "outputs": [],
   "source": [
    "data_path = \"./dataset/data\"\n",
    "images_path = './dataset/images'\n",
    "word_embedding_path = './dataset/glove.6B.200d.txt'\n",
    "image_features_path = \"./img_features.pkl\""
   ]
  },
  {
   "cell_type": "code",
   "execution_count": 4,
   "metadata": {},
   "outputs": [
    {
     "name": "stdout",
     "output_type": "stream",
     "text": [
      "Max len desc: $ an africanamerican man wear green sweatshirt and blue vest be hold up dollar bill in front of his face while stand on busy sidewalk in front of group of man play instrument #\n"
     ]
    }
   ],
   "source": [
    "dataset = FlickrDataset(\n",
    "    data_path, \n",
    "    images_path,\n",
    "    desc_prefix='$', \n",
    "    desc_postfix='#',\n",
    "    clean_desc=True\n",
    ")"
   ]
  },
  {
   "cell_type": "code",
   "execution_count": 5,
   "metadata": {},
   "outputs": [
    {
     "name": "stdout",
     "output_type": "stream",
     "text": [
      "Train: 5663, Val: 2185, Test: 243\n"
     ]
    }
   ],
   "source": [
    "train_samples, remain_samples = train_test_split(dataset.samples(), test_size=0.3)\n",
    "val_samples, test_samples = train_test_split(remain_samples, test_size=0.1)\n",
    "print(f'Train: {len(train_samples)}, Val: {len(val_samples)}, Test: {len(test_samples)}')"
   ]
  },
  {
   "cell_type": "code",
   "execution_count": 6,
   "metadata": {},
   "outputs": [
    {
     "data": {
      "text/plain": [
       "('./dataset/images/3216901052_269ace7b3c.jpg',\n",
       " ['$ child in red hat and scarf walk down snow cover street #',\n",
       "  '$ child in winter clothes be walk along street #',\n",
       "  '$ child run on street in snow #',\n",
       "  '$ little kid play in the snow in brown jacket and red beanie #',\n",
       "  '$ young child wear red hat and scarf play in street in little snow #'])"
      ]
     },
     "execution_count": 6,
     "metadata": {},
     "output_type": "execute_result"
    }
   ],
   "source": [
    "train_samples[0]"
   ]
  },
  {
   "cell_type": "code",
   "execution_count": 7,
   "metadata": {},
   "outputs": [],
   "source": [
    "if not os.path.isfile(image_features_path):\n",
    "    image_paths = list(dataset.samples().keys())\n",
    "    image_features = list(FeatureVectorGenerator().generate(image_paths))\n",
    "    with open(image_features_path, \"wb\") as encoded_pickle: dump(image_features, encoded_pickle)\n",
    "\n",
    "image_features = dict(load(open(image_features_path, \"rb\")))"
   ]
  },
  {
   "cell_type": "code",
   "execution_count": 8,
   "metadata": {},
   "outputs": [
    {
     "name": "stdout",
     "output_type": "stream",
     "text": [
      "('./dataset/images/1305564994_00513f9a5b.jpg', array([0.06508796, 0.0321871 , 0.02376986, ..., 0.38368654, 0.1991062 ,\n",
      "       0.23510437], dtype=float32))\n"
     ]
    }
   ],
   "source": [
    "print(list(image_features.items())[0])"
   ]
  },
  {
   "cell_type": "code",
   "execution_count": 9,
   "metadata": {},
   "outputs": [
    {
     "name": "stdout",
     "output_type": "stream",
     "text": [
      "Words(occurs>=10): 1593/6688\n"
     ]
    }
   ],
   "source": [
    "min_occurs=10\n",
    "vocabulary = dataset.words_set(min_occurs=10)\n",
    "vocabulary_size = len(vocabulary)\n",
    "complete_vocabulary_size = len(dataset.words_set())\n",
    "print(f'Words(occurs>={min_occurs}): {vocabulary_size}/{complete_vocabulary_size}')"
   ]
  },
  {
   "cell_type": "code",
   "execution_count": 10,
   "metadata": {},
   "outputs": [],
   "source": [
    "word_to_index, index_to_word = word_to_index_and_index_to_word(vocabulary)"
   ]
  },
  {
   "cell_type": "code",
   "execution_count": 11,
   "metadata": {},
   "outputs": [
    {
     "data": {
      "text/plain": [
       "1593"
      ]
     },
     "execution_count": 11,
     "metadata": {},
     "output_type": "execute_result"
    }
   ],
   "source": [
    "len(word_to_index)"
   ]
  },
  {
   "cell_type": "code",
   "execution_count": 12,
   "metadata": {},
   "outputs": [
    {
     "data": {
      "text/plain": [
       "174"
      ]
     },
     "execution_count": 12,
     "metadata": {},
     "output_type": "execute_result"
    }
   ],
   "source": [
    "dataset.max_desc_len()"
   ]
  },
  {
   "cell_type": "code",
   "execution_count": 13,
   "metadata": {},
   "outputs": [],
   "source": [
    "train_generator = DataGenerator(\n",
    "    train_samples,\n",
    "    image_features,\n",
    "    word_to_index,\n",
    "    index_to_word,\n",
    "    dataset.max_desc_len(), \n",
    "    vocabulary_size,\n",
    "    batch_size=3\n",
    ")\n",
    "\n",
    "val_generator = DataGenerator(\n",
    "    val_samples,\n",
    "    image_features,\n",
    "    word_to_index,\n",
    "    index_to_word,\n",
    "    dataset.max_desc_len(), \n",
    "    vocabulary_size,\n",
    "    batch_size=3\n",
    ")"
   ]
  },
  {
   "cell_type": "code",
   "execution_count": 14,
   "metadata": {},
   "outputs": [],
   "source": [
    "embedding_vector_dim = 200\n",
    "embedding_generator = GloveWordEmbeddingGenerator(word_embedding_path, embedding_vector_dim)"
   ]
  },
  {
   "cell_type": "code",
   "execution_count": 15,
   "metadata": {},
   "outputs": [],
   "source": [
    "embedding_matrix = embedding_generator.generate(word_to_index)"
   ]
  },
  {
   "cell_type": "code",
   "execution_count": 16,
   "metadata": {},
   "outputs": [
    {
     "data": {
      "text/plain": [
       "1593"
      ]
     },
     "execution_count": 16,
     "metadata": {},
     "output_type": "execute_result"
    }
   ],
   "source": [
    "len(embedding_matrix)"
   ]
  },
  {
   "cell_type": "code",
   "execution_count": 17,
   "metadata": {},
   "outputs": [
    {
     "name": "stdout",
     "output_type": "stream",
     "text": [
      "\n",
      "\n",
      "Metrics: ['loss', 'rmse']\n",
      "__________________________________________________________________________________________________\n",
      "Layer (type)                    Output Shape         Param #     Connected to                     \n",
      "==================================================================================================\n",
      "Description_Sequence (InputLaye (None, 174)          0                                            \n",
      "__________________________________________________________________________________________________\n",
      "Image_Feature (InputLayer)      (None, 2048)         0                                            \n",
      "__________________________________________________________________________________________________\n",
      "embedding_1 (Embedding)         (None, 174, 200)     318600      Description_Sequence[0][0]       \n",
      "__________________________________________________________________________________________________\n",
      "dropout_1 (Dropout)             (None, 2048)         0           Image_Feature[0][0]              \n",
      "__________________________________________________________________________________________________\n",
      "dropout_2 (Dropout)             (None, 174, 200)     0           embedding_1[0][0]                \n",
      "__________________________________________________________________________________________________\n",
      "dense_1 (Dense)                 (None, 512)          1049088     dropout_1[0][0]                  \n",
      "__________________________________________________________________________________________________\n",
      "lstm_1 (LSTM)                   (None, 512)          1460224     dropout_2[0][0]                  \n",
      "__________________________________________________________________________________________________\n",
      "add_1 (Add)                     (None, 512)          0           dense_1[0][0]                    \n",
      "                                                                 lstm_1[0][0]                     \n",
      "__________________________________________________________________________________________________\n",
      "dense_2 (Dense)                 (None, 512)          262656      add_1[0][0]                      \n",
      "__________________________________________________________________________________________________\n",
      "Words_Distribution (Dense)      (None, 1593)         817209      dense_2[0][0]                    \n",
      "==================================================================================================\n",
      "Total params: 3,907,777\n",
      "Trainable params: 3,589,177\n",
      "Non-trainable params: 318,600\n",
      "__________________________________________________________________________________________________\n"
     ]
    },
    {
     "data": {
      "image/svg+xml": [
       "<svg height=\"553pt\" viewBox=\"0.00 0.00 841.00 553.00\" width=\"841pt\" xmlns=\"http://www.w3.org/2000/svg\" xmlns:xlink=\"http://www.w3.org/1999/xlink\">\n",
       "<g class=\"graph\" id=\"graph0\" transform=\"scale(1 1) rotate(0) translate(4 549)\">\n",
       "<title>G</title>\n",
       "<polygon fill=\"white\" points=\"-4,4 -4,-549 837,-549 837,4 -4,4\" stroke=\"none\"/>\n",
       "<!-- 139657143272784 -->\n",
       "<g class=\"node\" id=\"node1\"><title>139657143272784</title>\n",
       "<polygon fill=\"none\" points=\"0,-498.5 0,-544.5 435,-544.5 435,-498.5 0,-498.5\" stroke=\"black\"/>\n",
       "<text font-family=\"Times,serif\" font-size=\"14.00\" text-anchor=\"middle\" x=\"133\" y=\"-517.8\">Description_Sequence: InputLayer</text>\n",
       "<polyline fill=\"none\" points=\"266,-498.5 266,-544.5 \" stroke=\"black\"/>\n",
       "<text font-family=\"Times,serif\" font-size=\"14.00\" text-anchor=\"middle\" x=\"300\" y=\"-529.3\">input:</text>\n",
       "<polyline fill=\"none\" points=\"266,-521.5 334,-521.5 \" stroke=\"black\"/>\n",
       "<text font-family=\"Times,serif\" font-size=\"14.00\" text-anchor=\"middle\" x=\"300\" y=\"-506.3\">output:</text>\n",
       "<polyline fill=\"none\" points=\"334,-498.5 334,-544.5 \" stroke=\"black\"/>\n",
       "<text font-family=\"Times,serif\" font-size=\"14.00\" text-anchor=\"middle\" x=\"384.5\" y=\"-529.3\">(None, 174)</text>\n",
       "<polyline fill=\"none\" points=\"334,-521.5 435,-521.5 \" stroke=\"black\"/>\n",
       "<text font-family=\"Times,serif\" font-size=\"14.00\" text-anchor=\"middle\" x=\"384.5\" y=\"-506.3\">(None, 174)</text>\n",
       "</g>\n",
       "<!-- 139657961113976 -->\n",
       "<g class=\"node\" id=\"node3\"><title>139657961113976</title>\n",
       "<polygon fill=\"none\" points=\"13.5,-415.5 13.5,-461.5 421.5,-461.5 421.5,-415.5 13.5,-415.5\" stroke=\"black\"/>\n",
       "<text font-family=\"Times,serif\" font-size=\"14.00\" text-anchor=\"middle\" x=\"115\" y=\"-434.8\">embedding_1: Embedding</text>\n",
       "<polyline fill=\"none\" points=\"216.5,-415.5 216.5,-461.5 \" stroke=\"black\"/>\n",
       "<text font-family=\"Times,serif\" font-size=\"14.00\" text-anchor=\"middle\" x=\"250.5\" y=\"-446.3\">input:</text>\n",
       "<polyline fill=\"none\" points=\"216.5,-438.5 284.5,-438.5 \" stroke=\"black\"/>\n",
       "<text font-family=\"Times,serif\" font-size=\"14.00\" text-anchor=\"middle\" x=\"250.5\" y=\"-423.3\">output:</text>\n",
       "<polyline fill=\"none\" points=\"284.5,-415.5 284.5,-461.5 \" stroke=\"black\"/>\n",
       "<text font-family=\"Times,serif\" font-size=\"14.00\" text-anchor=\"middle\" x=\"353\" y=\"-446.3\">(None, 174)</text>\n",
       "<polyline fill=\"none\" points=\"284.5,-438.5 421.5,-438.5 \" stroke=\"black\"/>\n",
       "<text font-family=\"Times,serif\" font-size=\"14.00\" text-anchor=\"middle\" x=\"353\" y=\"-423.3\">(None, 174, 200)</text>\n",
       "</g>\n",
       "<!-- 139657143272784&#45;&gt;139657961113976 -->\n",
       "<g class=\"edge\" id=\"edge1\"><title>139657143272784-&gt;139657961113976</title>\n",
       "<path d=\"M217.5,-498.366C217.5,-490.152 217.5,-480.658 217.5,-471.725\" fill=\"none\" stroke=\"black\"/>\n",
       "<polygon fill=\"black\" points=\"221,-471.607 217.5,-461.607 214,-471.607 221,-471.607\" stroke=\"black\"/>\n",
       "</g>\n",
       "<!-- 139655354185600 -->\n",
       "<g class=\"node\" id=\"node2\"><title>139655354185600</title>\n",
       "<polygon fill=\"none\" points=\"440,-415.5 440,-461.5 833,-461.5 833,-415.5 440,-415.5\" stroke=\"black\"/>\n",
       "<text font-family=\"Times,serif\" font-size=\"14.00\" text-anchor=\"middle\" x=\"547.5\" y=\"-434.8\">Image_Feature: InputLayer</text>\n",
       "<polyline fill=\"none\" points=\"655,-415.5 655,-461.5 \" stroke=\"black\"/>\n",
       "<text font-family=\"Times,serif\" font-size=\"14.00\" text-anchor=\"middle\" x=\"689\" y=\"-446.3\">input:</text>\n",
       "<polyline fill=\"none\" points=\"655,-438.5 723,-438.5 \" stroke=\"black\"/>\n",
       "<text font-family=\"Times,serif\" font-size=\"14.00\" text-anchor=\"middle\" x=\"689\" y=\"-423.3\">output:</text>\n",
       "<polyline fill=\"none\" points=\"723,-415.5 723,-461.5 \" stroke=\"black\"/>\n",
       "<text font-family=\"Times,serif\" font-size=\"14.00\" text-anchor=\"middle\" x=\"778\" y=\"-446.3\">(None, 2048)</text>\n",
       "<polyline fill=\"none\" points=\"723,-438.5 833,-438.5 \" stroke=\"black\"/>\n",
       "<text font-family=\"Times,serif\" font-size=\"14.00\" text-anchor=\"middle\" x=\"778\" y=\"-423.3\">(None, 2048)</text>\n",
       "</g>\n",
       "<!-- 139655354186440 -->\n",
       "<g class=\"node\" id=\"node4\"><title>139655354186440</title>\n",
       "<polygon fill=\"none\" points=\"456,-332.5 456,-378.5 791,-378.5 791,-332.5 456,-332.5\" stroke=\"black\"/>\n",
       "<text font-family=\"Times,serif\" font-size=\"14.00\" text-anchor=\"middle\" x=\"534.5\" y=\"-351.8\">dropout_1: Dropout</text>\n",
       "<polyline fill=\"none\" points=\"613,-332.5 613,-378.5 \" stroke=\"black\"/>\n",
       "<text font-family=\"Times,serif\" font-size=\"14.00\" text-anchor=\"middle\" x=\"647\" y=\"-363.3\">input:</text>\n",
       "<polyline fill=\"none\" points=\"613,-355.5 681,-355.5 \" stroke=\"black\"/>\n",
       "<text font-family=\"Times,serif\" font-size=\"14.00\" text-anchor=\"middle\" x=\"647\" y=\"-340.3\">output:</text>\n",
       "<polyline fill=\"none\" points=\"681,-332.5 681,-378.5 \" stroke=\"black\"/>\n",
       "<text font-family=\"Times,serif\" font-size=\"14.00\" text-anchor=\"middle\" x=\"736\" y=\"-363.3\">(None, 2048)</text>\n",
       "<polyline fill=\"none\" points=\"681,-355.5 791,-355.5 \" stroke=\"black\"/>\n",
       "<text font-family=\"Times,serif\" font-size=\"14.00\" text-anchor=\"middle\" x=\"736\" y=\"-340.3\">(None, 2048)</text>\n",
       "</g>\n",
       "<!-- 139655354185600&#45;&gt;139655354186440 -->\n",
       "<g class=\"edge\" id=\"edge2\"><title>139655354185600-&gt;139655354186440</title>\n",
       "<path d=\"M632.948,-415.366C631.629,-407.152 630.106,-397.658 628.672,-388.725\" fill=\"none\" stroke=\"black\"/>\n",
       "<polygon fill=\"black\" points=\"632.089,-387.926 627.048,-378.607 625.177,-389.035 632.089,-387.926\" stroke=\"black\"/>\n",
       "</g>\n",
       "<!-- 139655354186776 -->\n",
       "<g class=\"node\" id=\"node5\"><title>139655354186776</title>\n",
       "<polygon fill=\"none\" points=\"49.5,-332.5 49.5,-378.5 411.5,-378.5 411.5,-332.5 49.5,-332.5\" stroke=\"black\"/>\n",
       "<text font-family=\"Times,serif\" font-size=\"14.00\" text-anchor=\"middle\" x=\"128\" y=\"-351.8\">dropout_2: Dropout</text>\n",
       "<polyline fill=\"none\" points=\"206.5,-332.5 206.5,-378.5 \" stroke=\"black\"/>\n",
       "<text font-family=\"Times,serif\" font-size=\"14.00\" text-anchor=\"middle\" x=\"240.5\" y=\"-363.3\">input:</text>\n",
       "<polyline fill=\"none\" points=\"206.5,-355.5 274.5,-355.5 \" stroke=\"black\"/>\n",
       "<text font-family=\"Times,serif\" font-size=\"14.00\" text-anchor=\"middle\" x=\"240.5\" y=\"-340.3\">output:</text>\n",
       "<polyline fill=\"none\" points=\"274.5,-332.5 274.5,-378.5 \" stroke=\"black\"/>\n",
       "<text font-family=\"Times,serif\" font-size=\"14.00\" text-anchor=\"middle\" x=\"343\" y=\"-363.3\">(None, 174, 200)</text>\n",
       "<polyline fill=\"none\" points=\"274.5,-355.5 411.5,-355.5 \" stroke=\"black\"/>\n",
       "<text font-family=\"Times,serif\" font-size=\"14.00\" text-anchor=\"middle\" x=\"343\" y=\"-340.3\">(None, 174, 200)</text>\n",
       "</g>\n",
       "<!-- 139657961113976&#45;&gt;139655354186776 -->\n",
       "<g class=\"edge\" id=\"edge3\"><title>139657961113976-&gt;139655354186776</title>\n",
       "<path d=\"M221.052,-415.366C222.371,-407.152 223.894,-397.658 225.328,-388.725\" fill=\"none\" stroke=\"black\"/>\n",
       "<polygon fill=\"black\" points=\"228.823,-389.035 226.952,-378.607 221.911,-387.926 228.823,-389.035\" stroke=\"black\"/>\n",
       "</g>\n",
       "<!-- 139655354186608 -->\n",
       "<g class=\"node\" id=\"node6\"><title>139655354186608</title>\n",
       "<polygon fill=\"none\" points=\"454.5,-249.5 454.5,-295.5 760.5,-295.5 760.5,-249.5 454.5,-249.5\" stroke=\"black\"/>\n",
       "<text font-family=\"Times,serif\" font-size=\"14.00\" text-anchor=\"middle\" x=\"518.5\" y=\"-268.8\">dense_1: Dense</text>\n",
       "<polyline fill=\"none\" points=\"582.5,-249.5 582.5,-295.5 \" stroke=\"black\"/>\n",
       "<text font-family=\"Times,serif\" font-size=\"14.00\" text-anchor=\"middle\" x=\"616.5\" y=\"-280.3\">input:</text>\n",
       "<polyline fill=\"none\" points=\"582.5,-272.5 650.5,-272.5 \" stroke=\"black\"/>\n",
       "<text font-family=\"Times,serif\" font-size=\"14.00\" text-anchor=\"middle\" x=\"616.5\" y=\"-257.3\">output:</text>\n",
       "<polyline fill=\"none\" points=\"650.5,-249.5 650.5,-295.5 \" stroke=\"black\"/>\n",
       "<text font-family=\"Times,serif\" font-size=\"14.00\" text-anchor=\"middle\" x=\"705.5\" y=\"-280.3\">(None, 2048)</text>\n",
       "<polyline fill=\"none\" points=\"650.5,-272.5 760.5,-272.5 \" stroke=\"black\"/>\n",
       "<text font-family=\"Times,serif\" font-size=\"14.00\" text-anchor=\"middle\" x=\"705.5\" y=\"-257.3\">(None, 512)</text>\n",
       "</g>\n",
       "<!-- 139655354186440&#45;&gt;139655354186608 -->\n",
       "<g class=\"edge\" id=\"edge4\"><title>139655354186440-&gt;139655354186608</title>\n",
       "<path d=\"M619.128,-332.366C617.488,-324.062 615.589,-314.451 613.808,-305.434\" fill=\"none\" stroke=\"black\"/>\n",
       "<polygon fill=\"black\" points=\"617.238,-304.739 611.867,-295.607 610.371,-306.096 617.238,-304.739\" stroke=\"black\"/>\n",
       "</g>\n",
       "<!-- 139655353939784 -->\n",
       "<g class=\"node\" id=\"node7\"><title>139655353939784</title>\n",
       "<polygon fill=\"none\" points=\"100,-249.5 100,-295.5 421,-295.5 421,-249.5 100,-249.5\" stroke=\"black\"/>\n",
       "<text font-family=\"Times,serif\" font-size=\"14.00\" text-anchor=\"middle\" x=\"158\" y=\"-268.8\">lstm_1: LSTM</text>\n",
       "<polyline fill=\"none\" points=\"216,-249.5 216,-295.5 \" stroke=\"black\"/>\n",
       "<text font-family=\"Times,serif\" font-size=\"14.00\" text-anchor=\"middle\" x=\"250\" y=\"-280.3\">input:</text>\n",
       "<polyline fill=\"none\" points=\"216,-272.5 284,-272.5 \" stroke=\"black\"/>\n",
       "<text font-family=\"Times,serif\" font-size=\"14.00\" text-anchor=\"middle\" x=\"250\" y=\"-257.3\">output:</text>\n",
       "<polyline fill=\"none\" points=\"284,-249.5 284,-295.5 \" stroke=\"black\"/>\n",
       "<text font-family=\"Times,serif\" font-size=\"14.00\" text-anchor=\"middle\" x=\"352.5\" y=\"-280.3\">(None, 174, 200)</text>\n",
       "<polyline fill=\"none\" points=\"284,-272.5 421,-272.5 \" stroke=\"black\"/>\n",
       "<text font-family=\"Times,serif\" font-size=\"14.00\" text-anchor=\"middle\" x=\"352.5\" y=\"-257.3\">(None, 512)</text>\n",
       "</g>\n",
       "<!-- 139655354186776&#45;&gt;139655353939784 -->\n",
       "<g class=\"edge\" id=\"edge5\"><title>139655354186776-&gt;139655353939784</title>\n",
       "<path d=\"M238.698,-332.366C241.806,-323.973 245.409,-314.245 248.78,-305.143\" fill=\"none\" stroke=\"black\"/>\n",
       "<polygon fill=\"black\" points=\"252.121,-306.2 252.312,-295.607 245.557,-303.769 252.121,-306.2\" stroke=\"black\"/>\n",
       "</g>\n",
       "<!-- 139655353600880 -->\n",
       "<g class=\"node\" id=\"node8\"><title>139655353600880</title>\n",
       "<polygon fill=\"none\" points=\"248,-166.5 248,-212.5 619,-212.5 619,-166.5 248,-166.5\" stroke=\"black\"/>\n",
       "<text font-family=\"Times,serif\" font-size=\"14.00\" text-anchor=\"middle\" x=\"296.5\" y=\"-185.8\">add_1: Add</text>\n",
       "<polyline fill=\"none\" points=\"345,-166.5 345,-212.5 \" stroke=\"black\"/>\n",
       "<text font-family=\"Times,serif\" font-size=\"14.00\" text-anchor=\"middle\" x=\"379\" y=\"-197.3\">input:</text>\n",
       "<polyline fill=\"none\" points=\"345,-189.5 413,-189.5 \" stroke=\"black\"/>\n",
       "<text font-family=\"Times,serif\" font-size=\"14.00\" text-anchor=\"middle\" x=\"379\" y=\"-174.3\">output:</text>\n",
       "<polyline fill=\"none\" points=\"413,-166.5 413,-212.5 \" stroke=\"black\"/>\n",
       "<text font-family=\"Times,serif\" font-size=\"14.00\" text-anchor=\"middle\" x=\"516\" y=\"-197.3\">[(None, 512), (None, 512)]</text>\n",
       "<polyline fill=\"none\" points=\"413,-189.5 619,-189.5 \" stroke=\"black\"/>\n",
       "<text font-family=\"Times,serif\" font-size=\"14.00\" text-anchor=\"middle\" x=\"516\" y=\"-174.3\">(None, 512)</text>\n",
       "</g>\n",
       "<!-- 139655354186608&#45;&gt;139655353600880 -->\n",
       "<g class=\"edge\" id=\"edge6\"><title>139655354186608-&gt;139655353600880</title>\n",
       "<path d=\"M559.954,-249.366C538.375,-239.321 512.688,-227.363 490.12,-216.858\" fill=\"none\" stroke=\"black\"/>\n",
       "<polygon fill=\"black\" points=\"491.532,-213.654 480.989,-212.607 488.577,-220 491.532,-213.654\" stroke=\"black\"/>\n",
       "</g>\n",
       "<!-- 139655353939784&#45;&gt;139655353600880 -->\n",
       "<g class=\"edge\" id=\"edge7\"><title>139655353939784-&gt;139655353600880</title>\n",
       "<path d=\"M307.773,-249.366C329.228,-239.321 354.767,-227.363 377.205,-216.858\" fill=\"none\" stroke=\"black\"/>\n",
       "<polygon fill=\"black\" points=\"378.712,-220.017 386.284,-212.607 375.744,-213.677 378.712,-220.017\" stroke=\"black\"/>\n",
       "</g>\n",
       "<!-- 139655353232016 -->\n",
       "<g class=\"node\" id=\"node9\"><title>139655353232016</title>\n",
       "<polygon fill=\"none\" points=\"285,-83.5 285,-129.5 582,-129.5 582,-83.5 285,-83.5\" stroke=\"black\"/>\n",
       "<text font-family=\"Times,serif\" font-size=\"14.00\" text-anchor=\"middle\" x=\"349\" y=\"-102.8\">dense_2: Dense</text>\n",
       "<polyline fill=\"none\" points=\"413,-83.5 413,-129.5 \" stroke=\"black\"/>\n",
       "<text font-family=\"Times,serif\" font-size=\"14.00\" text-anchor=\"middle\" x=\"447\" y=\"-114.3\">input:</text>\n",
       "<polyline fill=\"none\" points=\"413,-106.5 481,-106.5 \" stroke=\"black\"/>\n",
       "<text font-family=\"Times,serif\" font-size=\"14.00\" text-anchor=\"middle\" x=\"447\" y=\"-91.3\">output:</text>\n",
       "<polyline fill=\"none\" points=\"481,-83.5 481,-129.5 \" stroke=\"black\"/>\n",
       "<text font-family=\"Times,serif\" font-size=\"14.00\" text-anchor=\"middle\" x=\"531.5\" y=\"-114.3\">(None, 512)</text>\n",
       "<polyline fill=\"none\" points=\"481,-106.5 582,-106.5 \" stroke=\"black\"/>\n",
       "<text font-family=\"Times,serif\" font-size=\"14.00\" text-anchor=\"middle\" x=\"531.5\" y=\"-91.3\">(None, 512)</text>\n",
       "</g>\n",
       "<!-- 139655353600880&#45;&gt;139655353232016 -->\n",
       "<g class=\"edge\" id=\"edge8\"><title>139655353600880-&gt;139655353232016</title>\n",
       "<path d=\"M433.5,-166.366C433.5,-158.152 433.5,-148.658 433.5,-139.725\" fill=\"none\" stroke=\"black\"/>\n",
       "<polygon fill=\"black\" points=\"437,-139.607 433.5,-129.607 430,-139.607 437,-139.607\" stroke=\"black\"/>\n",
       "</g>\n",
       "<!-- 139655351348304 -->\n",
       "<g class=\"node\" id=\"node10\"><title>139655351348304</title>\n",
       "<polygon fill=\"none\" points=\"239.5,-0.5 239.5,-46.5 627.5,-46.5 627.5,-0.5 239.5,-0.5\" stroke=\"black\"/>\n",
       "<text font-family=\"Times,serif\" font-size=\"14.00\" text-anchor=\"middle\" x=\"344.5\" y=\"-19.8\">Words_Distribution: Dense</text>\n",
       "<polyline fill=\"none\" points=\"449.5,-0.5 449.5,-46.5 \" stroke=\"black\"/>\n",
       "<text font-family=\"Times,serif\" font-size=\"14.00\" text-anchor=\"middle\" x=\"483.5\" y=\"-31.3\">input:</text>\n",
       "<polyline fill=\"none\" points=\"449.5,-23.5 517.5,-23.5 \" stroke=\"black\"/>\n",
       "<text font-family=\"Times,serif\" font-size=\"14.00\" text-anchor=\"middle\" x=\"483.5\" y=\"-8.3\">output:</text>\n",
       "<polyline fill=\"none\" points=\"517.5,-0.5 517.5,-46.5 \" stroke=\"black\"/>\n",
       "<text font-family=\"Times,serif\" font-size=\"14.00\" text-anchor=\"middle\" x=\"572.5\" y=\"-31.3\">(None, 512)</text>\n",
       "<polyline fill=\"none\" points=\"517.5,-23.5 627.5,-23.5 \" stroke=\"black\"/>\n",
       "<text font-family=\"Times,serif\" font-size=\"14.00\" text-anchor=\"middle\" x=\"572.5\" y=\"-8.3\">(None, 1593)</text>\n",
       "</g>\n",
       "<!-- 139655353232016&#45;&gt;139655351348304 -->\n",
       "<g class=\"edge\" id=\"edge9\"><title>139655353232016-&gt;139655351348304</title>\n",
       "<path d=\"M433.5,-83.3664C433.5,-75.1516 433.5,-65.6579 433.5,-56.7252\" fill=\"none\" stroke=\"black\"/>\n",
       "<polygon fill=\"black\" points=\"437,-56.6068 433.5,-46.6068 430,-56.6069 437,-56.6068\" stroke=\"black\"/>\n",
       "</g>\n",
       "</g>\n",
       "</svg>"
      ],
      "text/plain": [
       "<IPython.core.display.SVG object>"
      ]
     },
     "metadata": {},
     "output_type": "display_data"
    }
   ],
   "source": [
    "def build_model(vocabulary_size, embedding_vector_dim, embedding_matrix):\n",
    "    img_feat_input = Input(name=\"Image_Feature\", shape=(2048,))\n",
    "\n",
    "    img_branch = Dropout(0.5)(img_feat_input)\n",
    "    img_branch = Dense(512, activation='relu')(img_branch)\n",
    "\n",
    "    seq_input = Input(name=\"Description_Sequence\", shape=(dataset.max_desc_len(),))\n",
    "\n",
    "    seq_branch = Embedding(vocabulary_size, embedding_vector_dim, mask_zero=True)(seq_input)\n",
    "    seq_branch = Dropout(0.5)(seq_branch)\n",
    "    seq_branch = LSTM(512)(seq_branch)\n",
    "\n",
    "    decoder = add([img_branch, seq_branch])\n",
    "    decoder = Dense(512, activation='relu')(decoder)\n",
    "\n",
    "    outputs = Dense(name=\"Words_Distribution\", units=vocabulary_size, activation='softmax')(decoder)\n",
    "\n",
    "    model = Model(inputs=[img_feat_input, seq_input], outputs=outputs)\n",
    "\n",
    "    model.layers[2].set_weights([embedding_matrix])\n",
    "    model.layers[2].trainable = False\n",
    "\n",
    "    model.compile(\n",
    "        loss='categorical_crossentropy', \n",
    "        optimizer='adam',\n",
    "        metrics=[rmse]\n",
    "    )\n",
    "\n",
    "    return ModelWrapper(model)\n",
    "    \n",
    "\n",
    "model = build_model(vocabulary_size, embedding_vector_dim, embedding_matrix)\n",
    "model.show()"
   ]
  },
  {
   "cell_type": "code",
   "execution_count": 18,
   "metadata": {},
   "outputs": [],
   "source": [
    "batch_size = 16\n",
    "weights_path = create_directory('weights')\n",
    "\n",
    "callbacks = [\n",
    "    ModelCheckpoint(\n",
    "        weights_path + '/weights__epoch_{epoch:02d}__val_loss_{val_loss:.4f}__val_rmse_{val_rmse:.4f}.h5',\n",
    "        monitor='val_loss', \n",
    "        verbose=1,\n",
    "        save_best_only=True, \n",
    "        save_weights_only=True, \n",
    "        mode='auto',\n",
    "        period=1\n",
    "    ),\n",
    "    MetricsPlotter(\n",
    "        validation_generator=val_generator,\n",
    "        plot_interval=30,\n",
    "        evaluate_interval=30,\n",
    "        batch_size=batch_size\n",
    "    )\n",
    "]"
   ]
  },
  {
   "cell_type": "code",
   "execution_count": null,
   "metadata": {},
   "outputs": [
    {
     "data": {
      "image/png": "[encoded data removed]",
      "text/plain": [
       "<matplotlib.figure.Figure at 0x7f03d8510748>"
      ]
     },
     "metadata": {
      "needs_background": "light"
     },
     "output_type": "display_data"
    },
    {
     "name": "stdout",
     "output_type": "stream",
     "text": [
      "\n",
      "\n",
      "Evaluate model (Each 30 steps):\n",
      "139/139 [==============================] - 1s 4ms/step\n",
      "\n",
      "Validation:\n",
      "  - Loss (12): 3.358907 (⟱ 0.14026211)\n",
      "  - Rmse (12): 0.022981 (⟱ 0.00017405)\n",
      "\n",
      "Continue model train:\n",
      "353/353 [============================>.] - ETA: 0s - loss: 4.8145 - rmse: 0.0241"
     ]
    }
   ],
   "source": [
    "model.fit(\n",
    "    train_generator,\n",
    "    val_generator,\n",
    "    epochs=10,\n",
    "    steps_per_epoch=len(train_samples)/batch_size,\n",
    "    callbacks=callbacks\n",
    ")"
   ]
  },
  {
   "cell_type": "code",
   "execution_count": null,
   "metadata": {},
   "outputs": [],
   "source": [
    "model.lr(0.0001).fit(\n",
    "    train_generator,\n",
    "    val_generator,\n",
    "    epochs=10,\n",
    "    steps_per_epoch=len(train_samples),\n",
    "    callbacks=callbacks\n",
    ")"
   ]
  },
  {
   "cell_type": "code",
   "execution_count": null,
   "metadata": {},
   "outputs": [],
   "source": [
    "search = GreedySearch(model, word_to_index, index_to_word, '$', '#', dataset.max_desc_len())\n",
    "\n",
    "image_path = test_samples[0][0]\n",
    "\n",
    "show_sample(\n",
    "    image_path,\n",
    "    description=search.perform( image_features[image_path])\n",
    ")"
   ]
  }
 ],
 "metadata": {
  "kernelspec": {
   "display_name": "Python 3",
   "language": "python",
   "name": "python3"
  },
  "language_info": {
   "codemirror_mode": {
    "name": "ipython",
    "version": 3
   },
   "file_extension": ".py",
   "mimetype": "text/x-python",
   "name": "python",
   "nbconvert_exporter": "python",
   "pygments_lexer": "ipython3",
   "version": "3.6.0"
  }
 },
 "nbformat": 4,
 "nbformat_minor": 2
}

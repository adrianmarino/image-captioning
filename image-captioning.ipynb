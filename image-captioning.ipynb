{
 "cells": [
  {
   "cell_type": "code",
   "execution_count": 8,
   "metadata": {},
   "outputs": [],
   "source": [
    "%load_ext autoreload\n",
    "%autoreload 2\n",
    "%matplotlib inline"
   ]
  },
  {
   "cell_type": "code",
   "execution_count": 9,
   "metadata": {},
   "outputs": [
    {
     "name": "stderr",
     "output_type": "stream",
     "text": [
      "Using TensorFlow backend.\n",
      "WARNING: Logging before flag parsing goes to stderr.\n",
      "W0706 00:29:37.174207 140047639689024 __init__.py:56] Some hub symbols are not available because TensorFlow version is less than 1.14\n",
      "[nltk_data] Downloading package punkt to /home/adrian/nltk_data...\n",
      "[nltk_data]   Package punkt is already up-to-date!\n",
      "[nltk_data] Downloading package stopwords to /home/adrian/nltk_data...\n",
      "[nltk_data]   Package stopwords is already up-to-date!\n"
     ]
    }
   ],
   "source": [
    "import numpy as np\n",
    "from numpy import array\n",
    "import matplotlib.pyplot as plt\n",
    "\n",
    "import random\n",
    "import os\n",
    "\n",
    "from sklearn.model_selection import train_test_split\n",
    "\n",
    "from keras import Input, layers, optimizers\n",
    "from keras.models import Model\n",
    "from keras.layers import LSTM, Embedding, Dense,Dropout, LeakyReLU\n",
    "from keras.layers.merge import add\n",
    "from keras.optimizers import Adam\n",
    "from keras.utils import to_categorical\n",
    "\n",
    "from lib.data.flickr_dataset import FlickrDataset\n",
    "from lib.data.feature_vector_generator import FeatureVectorGenerator\n",
    "from lib.data.word_embedding import WordEmbedding\n",
    "from lib.data.generator.data_generator import DataGenerator\n",
    "\n",
    "from lib.model.model_wrapper import ModelWrapper\n",
    "from lib.model.model_utils import get_best_weights_file_from, get_loss_model_weights_path\n",
    "from lib.model.metrics import rmse\n",
    "from lib.model.search.search_factory import SearchFactory\n",
    "from lib.model.search.beam_search_k_finder import BeamSearchKFinder, random_samples\n",
    "\n",
    "from lib.utils.word_utils import word_to_index_and_index_to_word\n",
    "from lib.utils.file_utils import create_directory\n",
    "from lib.utils.plot_utils import show_sample, display_table\n",
    "from lib.utils.array_utils import column\n",
    "from lib.utils.pickle_utils import save_obj, load_obj\n",
    "\n",
    "from keras.callbacks                         import ModelCheckpoint\n",
    "from lib.callback.metric_plotter             import MetricsPlotter\n",
    "from lib.callback.adam_learning_rate_tracker import AdamLearningRateTracker\n",
    "from lib.callback.clr_callback               import CyclicLR\n",
    "from keras.callbacks                         import ReduceLROnPlateau\n",
    "\n",
    "from lib.model.inspector.prediction_inspector_factory import PredictionInspectorFactory\n",
    "\n",
    "import warnings\n",
    "warnings.filterwarnings('ignore')"
   ]
  },
  {
   "cell_type": "markdown",
   "metadata": {},
   "source": [
    "# Image captioning model"
   ]
  },
  {
   "cell_type": "markdown",
   "metadata": {},
   "source": [
    "## Common parameters"
   ]
  },
  {
   "cell_type": "markdown",
   "metadata": {},
   "source": [
    "What dataset we are going to use?"
   ]
  },
  {
   "cell_type": "code",
   "execution_count": 10,
   "metadata": {},
   "outputs": [],
   "source": [
    "dataset_name='8k' # Flickr8k\n",
    "# dataset_name='30k' # Flickr30k"
   ]
  },
  {
   "cell_type": "markdown",
   "metadata": {},
   "source": [
    "Each line of dataset contain an image_path + separator + a descrption. Next regex are used to separate these:"
   ]
  },
  {
   "cell_type": "code",
   "execution_count": 11,
   "metadata": {},
   "outputs": [],
   "source": [
    "line_separator = { \n",
    "    '8k': r'#[0-9]', # Flickr8k\n",
    "    '30k': r'\\| [0-9]\\|' # Flickr30k\n",
    "}"
   ]
  },
  {
   "cell_type": "markdown",
   "metadata": {},
   "source": [
    "Dataset data file & iamges paths:"
   ]
  },
  {
   "cell_type": "code",
   "execution_count": 12,
   "metadata": {},
   "outputs": [],
   "source": [
    "dataset_path=f'./dataset/{dataset_name}'\n",
    "data_path = f'{dataset_path}/data'\n",
    "images_path = f'{dataset_path}/images'"
   ]
  },
  {
   "cell_type": "markdown",
   "metadata": {},
   "source": [
    "What word embedding we are going to use?"
   ]
  },
  {
   "cell_type": "markdown",
   "metadata": {},
   "source": [
    "Select word embedding. The embedding word vector size depend of embedding file, in this case is 300 or 1024."
   ]
  },
  {
   "cell_type": "code",
   "execution_count": 13,
   "metadata": {},
   "outputs": [],
   "source": [
    "# ELMO\n",
    "word_embeding_name = 'elmo' \n",
    "word_embedding_path = f'./dataset/embedding/elmo/'\n",
    "word_embedding_vector_dim = 1024\n",
    "\n",
    "# GLOVE\n",
    "# word_embeding_name = 'glove'\n",
    "# word_embedding_vector_dim = 300\n",
    "# file = 'glove.6B.300d.txt'\n",
    "# file = 'glove.840B.300d.txt'\n",
    "# word_embedding_path = f'./dataset/embedding/glove/{file}'"
   ]
  },
  {
   "cell_type": "markdown",
   "metadata": {},
   "source": [
    "Path's where we save images and words embeddings:"
   ]
  },
  {
   "cell_type": "code",
   "execution_count": 14,
   "metadata": {},
   "outputs": [],
   "source": [
    "image_features_path = f'{dataset_path}/img_features.pkl'\n",
    "descrption_embedding_path = f'{dataset_path}/descrition_embeding.{word_embeding_name}.pkl'"
   ]
  },
  {
   "cell_type": "markdown",
   "metadata": {},
   "source": [
    "Path where save model weights:"
   ]
  },
  {
   "cell_type": "code",
   "execution_count": 15,
   "metadata": {},
   "outputs": [],
   "source": [
    "weights_path = create_directory(f'weights/{dataset_name}')\n",
    "weights_file_path_patern = weights_path + '/weights__epoch_{epoch:02d}__loss_{loss:.4f}_val_loss_{val_loss:.4f}__rmse_{rmse:.4f}__val_rmse_{val_rmse:.4f}.h5'"
   ]
  },
  {
   "cell_type": "markdown",
   "metadata": {},
   "source": [
    "Sample group files:"
   ]
  },
  {
   "cell_type": "code",
   "execution_count": 16,
   "metadata": {},
   "outputs": [],
   "source": [
    "prefix = '_model_c'\n",
    "\n",
    "train_samples_file =  f'{dataset_path}/train_samples{prefix}'\n",
    "val_samples_file = f'{dataset_path}/val_samples{prefix}'\n",
    "test_samples_file = f'{dataset_path}/test_samples{prefix}'"
   ]
  },
  {
   "cell_type": "markdown",
   "metadata": {},
   "source": [
    "## Data preparation"
   ]
  },
  {
   "cell_type": "markdown",
   "metadata": {},
   "source": [
    "Load dataset:"
   ]
  },
  {
   "cell_type": "code",
   "execution_count": 17,
   "metadata": {},
   "outputs": [
    {
     "name": "stdout",
     "output_type": "stream",
     "text": [
      "Max len desc: $ an africanamerican man wear green sweatshirt and blue vest be hold up dollar bill in front of his face while stand on busy sidewalk in front of group of man play instrument #\n"
     ]
    }
   ],
   "source": [
    "dataset = FlickrDataset(\n",
    "    data_path, \n",
    "    images_path,\n",
    "    desc_prefix='$', \n",
    "    desc_postfix='#',\n",
    "    clean_desc=True,\n",
    "    separator=line_separator[dataset_name]\n",
    ")"
   ]
  },
  {
   "cell_type": "code",
   "execution_count": 18,
   "metadata": {},
   "outputs": [
    {
     "data": {
      "text/plain": [
       "34"
      ]
     },
     "execution_count": 18,
     "metadata": {},
     "output_type": "execute_result"
    }
   ],
   "source": [
    "dataset.max_desc_len()"
   ]
  },
  {
   "cell_type": "markdown",
   "metadata": {},
   "source": [
    "Separate sample in three groups:\n",
    "* Train samples\n",
    "* Validatiion samples\n",
    "* Test sasmples"
   ]
  },
  {
   "cell_type": "code",
   "execution_count": 19,
   "metadata": {},
   "outputs": [],
   "source": [
    "val_size=0.14\n",
    "test_size=0.115"
   ]
  },
  {
   "cell_type": "code",
   "execution_count": 20,
   "metadata": {},
   "outputs": [],
   "source": [
    "train_samples, remain_samples = train_test_split(dataset.samples(), test_size=val_size, shuffle=True)\n",
    "val_samples, test_samples = train_test_split(remain_samples, test_size=test_size, shuffle=True)"
   ]
  },
  {
   "cell_type": "code",
   "execution_count": 21,
   "metadata": {},
   "outputs": [
    {
     "name": "stdout",
     "output_type": "stream",
     "text": [
      "Train: 6958, Val: 1002, Test: 131\n"
     ]
    }
   ],
   "source": [
    "print(f'Train: {len(train_samples)}, Val: {len(val_samples)}, Test: {len(test_samples)}')"
   ]
  },
  {
   "cell_type": "markdown",
   "metadata": {},
   "source": [
    "Save sample groups. This step is very important, given that once model was train always must evaluate with same test samples selected before model train. "
   ]
  },
  {
   "cell_type": "code",
   "execution_count": 22,
   "metadata": {},
   "outputs": [
    {
     "name": "stdout",
     "output_type": "stream",
     "text": [
      "Load sample from ./dataset/8k/train_samples_model_c\n",
      "Load sample from ./dataset/8k/val_samples_model_c\n",
      "Load sample from ./dataset/8k/test_samples_model_c\n"
     ]
    }
   ],
   "source": [
    "if not os.path.isfile(train_samples_file):\n",
    "    save_obj(train_samples_file, train_samples)\n",
    "    print(f'Save sample to {train_samples_file}')\n",
    "else:\n",
    "    train_samples = load_obj(train_samples_file)\n",
    "    print(f'Load sample from {train_samples_file}')\n",
    "\n",
    "if not os.path.isfile(val_samples_file):\n",
    "    save_obj(val_samples_file, val_samples)\n",
    "    print(f'Save sample to {val_samples_file}')\n",
    "else:\n",
    "    val_samples = load_obj(val_samples_file)\n",
    "    print(f'Load sample from {val_samples_file}')\n",
    "    \n",
    "if not os.path.isfile(test_samples_file):\n",
    "    save_obj(test_samples_file, test_samples)\n",
    "    print(f'Save sample to {test_samples_file}')\n",
    "else:\n",
    "    test_samples = load_obj(test_samples_file)\n",
    "    print(f'Load sample from {test_samples_file}')"
   ]
  },
  {
   "cell_type": "code",
   "execution_count": 23,
   "metadata": {},
   "outputs": [
    {
     "name": "stdout",
     "output_type": "stream",
     "text": [
      "Train: 6958, Val: 1002, Test: 131\n"
     ]
    }
   ],
   "source": [
    "print(f'Train: {len(train_samples)}, Val: {len(val_samples)}, Test: {len(test_samples)}')"
   ]
  },
  {
   "cell_type": "code",
   "execution_count": 24,
   "metadata": {},
   "outputs": [
    {
     "data": {
      "image/png": "[encoded data removed]",
      "text/plain": [
       "<PIL.Image.Image image mode=RGB size=300x212 at 0x7F5EBA945AC8>"
      ]
     },
     "metadata": {},
     "output_type": "display_data"
    },
    {
     "data": {
      "text/html": [
       "<table border=\"1\" class=\"dataframe\">\n",
       "  <thead>\n",
       "    <tr style=\"text-align: left;\">\n",
       "      <th>Description</th>\n",
       "    </tr>\n",
       "  </thead>\n",
       "  <tbody>\n",
       "    <tr>\n",
       "      <td>dog in field jump for frisbee</td>\n",
       "    </tr>\n",
       "    <tr>\n",
       "      <td>small black and white jump to catch something in its mouth</td>\n",
       "    </tr>\n",
       "    <tr>\n",
       "      <td>small white dog with his tongue out be jump up to catch toy</td>\n",
       "    </tr>\n",
       "    <tr>\n",
       "      <td>white dog be jump up in the air to catch frisbee</td>\n",
       "    </tr>\n",
       "    <tr>\n",
       "      <td>white dog with dark marking jump to catch an object</td>\n",
       "    </tr>\n",
       "  </tbody>\n",
       "</table>"
      ],
      "text/plain": [
       "<IPython.core.display.HTML object>"
      ]
     },
     "metadata": {},
     "output_type": "display_data"
    }
   ],
   "source": [
    "show_sample(train_samples[0])"
   ]
  },
  {
   "cell_type": "markdown",
   "metadata": {},
   "source": [
    "### Generate images embedding \n",
    "This step evaluate all dataset images in **InceptionV3 model** with **imagenet weights** and get output from last convolutional layer. \n",
    "The idea is precalculate an \"image embedding\" to minimize the **image captionining model** train times. Save results to a file given that this process can take a long time."
   ]
  },
  {
   "cell_type": "code",
   "execution_count": 25,
   "metadata": {},
   "outputs": [
    {
     "name": "stdout",
     "output_type": "stream",
     "text": [
      "Image embedding size: 8091 == Dataset size: 8091\n",
      "\n",
      "Sample:\n",
      "- Image: ./dataset/8k/images/1305564994_00513f9a5b.jpg\n",
      "- Embedding vector: [ 0.06508786  0.03218709  0.0237698  ...,  0.3836866   0.19910577\n",
      "  0.23510413]\n"
     ]
    }
   ],
   "source": [
    "if not os.path.isfile(image_features_path):\n",
    "    image_paths = dataset.samples(col=0)\n",
    "    image_features = list(FeatureVectorGenerator().generate(image_paths))\n",
    "    save_obj(image_features_path, image_features)\n",
    "else:\n",
    "    image_features = load_obj(image_features_path)\n",
    "\n",
    "print(f'Image embedding size: {len(image_features)} == Dataset size: {len(dataset.samples())}')\n",
    "print(f'\\nSample:\\n- Image: {image_features[0][0]}\\n- Embedding vector: {image_features[0][1]}')\n",
    "image_features = dict(image_features)"
   ]
  },
  {
   "cell_type": "markdown",
   "metadata": {},
   "source": [
    "### Generate words embedding"
   ]
  },
  {
   "cell_type": "markdown",
   "metadata": {},
   "source": [
    "Select words vocabulary:"
   ]
  },
  {
   "cell_type": "code",
   "execution_count": 26,
   "metadata": {},
   "outputs": [],
   "source": [
    "word_min_occurs=10\n",
    "\n",
    "vocabulary = dataset.words_set(min_occurs=word_min_occurs)\n",
    "\n",
    "# ------------------------------------------------------------------------------------\n",
    "# READ IMPORTANT NOTE!\n",
    "# ------------------------------------------------------------------------------------\n",
    "# => Add \"+ 1\" to vocabulary_size because words are indexed from 1 instead of zero.\n",
    "# ------------------------------------------------------------------------------------\n",
    "vocabulary_size = len(vocabulary) + 1\n",
    "\n",
    "complete_vocabulary_size = len(dataset.words_set())"
   ]
  },
  {
   "cell_type": "code",
   "execution_count": 27,
   "metadata": {},
   "outputs": [
    {
     "name": "stdout",
     "output_type": "stream",
     "text": [
      "Words(occurs>=10): 1595/6689\n"
     ]
    }
   ],
   "source": [
    "print(f'Words(occurs>={word_min_occurs}): {vocabulary_size}/{complete_vocabulary_size}')"
   ]
  },
  {
   "cell_type": "markdown",
   "metadata": {},
   "source": [
    "Build **world to index*** and **index to world** dictionaries:"
   ]
  },
  {
   "cell_type": "code",
   "execution_count": 28,
   "metadata": {},
   "outputs": [],
   "source": [
    "word_to_index, index_to_word = word_to_index_and_index_to_word(vocabulary)"
   ]
  },
  {
   "cell_type": "markdown",
   "metadata": {},
   "source": [
    "Build world embedding matrix: Save matrix to a file given that this process can take a long time."
   ]
  },
  {
   "cell_type": "code",
   "execution_count": 29,
   "metadata": {},
   "outputs": [
    {
     "name": "stdout",
     "output_type": "stream",
     "text": [
      "Word embedding: elmo, Path: ./dataset/embedding/elmo/, VectorDim:: 1024\n"
     ]
    }
   ],
   "source": [
    "print(f'Word embedding: {word_embeding_name}, Path: {word_embedding_path}, VectorDim:: {word_embedding_vector_dim}')"
   ]
  },
  {
   "cell_type": "code",
   "execution_count": 30,
   "metadata": {},
   "outputs": [
    {
     "name": "stdout",
     "output_type": "stream",
     "text": [
      "Word embedding: (1595, 1024)\n"
     ]
    }
   ],
   "source": [
    "if not os.path.isfile(descrption_embedding_path):\n",
    "    embedding = WordEmbedding.create(\n",
    "        word_embeding_name,\n",
    "        path=word_embedding_path,\n",
    "        vector_dim=word_embedding_vector_dim\n",
    "    )\n",
    "    embedding_matrix =  embedding.encode(word_to_index, vocabulary_size)\n",
    "    save_obj(descrption_embedding_path, embedding_matrix)\n",
    "else:\n",
    "    embedding_matrix = load_obj(descrption_embedding_path)\n",
    "\n",
    "print(f'Word embedding: {embedding_matrix.shape}')"
   ]
  },
  {
   "cell_type": "markdown",
   "metadata": {},
   "source": [
    "**Note**: In best case word embedding size is equal to vocabulary size. "
   ]
  },
  {
   "cell_type": "markdown",
   "metadata": {},
   "source": [
    "## Model build & train"
   ]
  },
  {
   "cell_type": "code",
   "execution_count": 31,
   "metadata": {},
   "outputs": [],
   "source": [
    "def dense(network, units, activation, name='', leaky_relu_alpha=0.3):\n",
    "    if 'leaky_relu' == activation:\n",
    "        network = Dense(name=name, units=units)(network)\n",
    "        return LeakyReLU(alpha=leaky_relu_alpha)(network)        \n",
    "\n",
    "    return Dense(name=name, units=units, activation=activation)(network)\n",
    "\n",
    "def build_model(\n",
    "    vocabulary_size, \n",
    "    word_embedding_vector_dim, \n",
    "    embedding_matrix, \n",
    "    optimizer, \n",
    "    activation='relu', \n",
    "    units=512, \n",
    "    dropout=0.2, \n",
    "    leaky_relu_alpha=0.3,\n",
    "    embedding_trainable=False\n",
    "):\n",
    "    img_feat_input = Input(name=\"Image_Feature\", shape=(2048,))\n",
    "    img_branch = Dropout(dropout)(img_feat_input)\n",
    "    img_branch = dense(img_branch, units, activation, name='Image_Dense', leaky_relu_alpha=leaky_relu_alpha)    \n",
    "\n",
    "    seq_input = Input(name=\"Description_Sequence\", shape=(dataset.max_desc_len(),))\n",
    "\n",
    "    seq_branch = Embedding(vocabulary_size, word_embedding_vector_dim, mask_zero=True)(seq_input)\n",
    "    seq_branch = Dropout(dropout)(seq_branch)\n",
    "    seq_branch = LSTM(units)(seq_branch)\n",
    "\n",
    "    decoder = add([img_branch, seq_branch])\n",
    "    decoder = dense(decoder, units, activation, name='Decoder_Dense', leaky_relu_alpha=leaky_relu_alpha)\n",
    " \n",
    "    outputs = dense(decoder, units=vocabulary_size, activation='softmax', name=\"Words_Distribution\")\n",
    "\n",
    "    model = Model(inputs=[img_feat_input, seq_input], outputs=outputs)\n",
    "\n",
    "\n",
    "    embedding_layer = list(filter(lambda it: it.name.startswith(\"embedding\"), model.layers))[0]\n",
    "    if not embedding_layer is None:\n",
    "        print(f'{embedding_layer.name}: Set trainable=false & load wordl embedding as layer weights')\n",
    "        embedding_layer.set_weights([embedding_matrix])\n",
    "        embedding_layer.trainable = embedding_trainable\n",
    "\n",
    "    model.compile(\n",
    "        loss='categorical_crossentropy', \n",
    "        optimizer=optimizer,\n",
    "        metrics=[rmse]\n",
    "    )\n",
    "\n",
    "    return ModelWrapper(model)"
   ]
  },
  {
   "cell_type": "markdown",
   "metadata": {},
   "source": [
    "### Train model"
   ]
  },
  {
   "cell_type": "markdown",
   "metadata": {},
   "source": [
    "Define hiperparameters uses to train each train step:"
   ]
  },
  {
   "cell_type": "code",
   "execution_count": 32,
   "metadata": {},
   "outputs": [],
   "source": [
    "%matplotlib inline\n",
    "import matplotlib.pyplot as plt\n",
    "import math\n",
    "\n",
    "class AdamOptimizer:\n",
    "    def __init__(self, lr): \n",
    "        self.lr = lr\n",
    "        self.optimizer = Adam(lr=lr)\n",
    "    def append_to(self, callbacks): return callbacks\n",
    "    def __str__(self):\n",
    "        return f'''\n",
    "            - {self.optimizer.__class__.__name__} optimizer:\n",
    "                - lr:_____________ {self.lr}\n",
    "            '''\n",
    "    def graph(self):\n",
    "        pass\n",
    "    \n",
    "\n",
    "class CRLOptimizer:\n",
    "    def __init__(self, optimizer, clr, cycles, samples_size, batch_size):\n",
    "            self.optimizer     = optimizer\n",
    "            self.clr           = clr\n",
    "            self.cycles        = cycles\n",
    "            self.batch_size    = batch_size\n",
    "            batchs_per_epoch   = samples_size / batch_size\n",
    "            self.clr.step_size = math.floor((batchs_per_epoch / cycles)*0.5)\n",
    "    \n",
    "    def append_to(self, callbacks): return callbacks + [self.clr]\n",
    "    def __str__(self):\n",
    "        return f'''\n",
    "            CLR + {self.optimizer.__class__.__name__} optimizer:\n",
    "            - mode_________________{self.clr.mode}\n",
    "            - cycles_______________{self.cycles}\n",
    "            - batch_size___________{self.batch_size}\n",
    "            - step_size____________{self.clr.step_size}\n",
    "            - base_lr______________{self.clr.base_lr}\n",
    "            - max_lr_______________{self.clr.max_lr}\n",
    "            - gamma________________{self.clr.gamma}\n",
    "            '''\n",
    "    def graph(self):\n",
    "        plt.xlabel('Training Iterations')\n",
    "        plt.ylabel('Learning Rate')\n",
    "        plt.title(f'CLR - {self.clr.mode} Policy')\n",
    "        plt.plot(self.clr.history['iterations'], self.clr.history['lr'])"
   ]
  },
  {
   "cell_type": "code",
   "execution_count": 33,
   "metadata": {},
   "outputs": [],
   "source": [
    "class Hiperparams:\n",
    "    def __init__(self, **kwargs): \n",
    "        self.__dict__ = kwargs\n",
    "        self.batchs_per_epoch = self.samples_size / self.batch_size\n",
    "\n",
    "    def __str__(self):\n",
    "        return f'''\n",
    "        Hiperparams:\n",
    "            - step_________________{self.step}\n",
    "            - epochs_______________{self.epochs}\n",
    "            - batch_size___________{self.batch_size}\n",
    "            - factor_______________{self.factor},\n",
    "            - patience_____________{self.patience},\n",
    "            - weights_file_________{self.weights_file},\n",
    "            - units________________{self.units}\n",
    "            - dropout______________{self.dropout}\n",
    "            - activation___________{self.activation}\n",
    "            - leaky_relu_alpha_____{self.leaky_relu_alpha},\n",
    "            - embedding_trainable__{self.embedding_trainable}\n",
    "            - samples_size_________{self.samples_size}\n",
    "            - batchs_per_epoch_____{self.batchs_per_epoch}{str(self.optimizer)}\n",
    "        '''"
   ]
  },
  {
   "cell_type": "code",
   "execution_count": 34,
   "metadata": {},
   "outputs": [
    {
     "name": "stdout",
     "output_type": "stream",
     "text": [
      "WARNING:tensorflow:From /home/adrian/anaconda3/envs/image-captioning/lib/python3.6/site-packages/tensorflow/python/framework/op_def_library.py:263: colocate_with (from tensorflow.python.framework.ops) is deprecated and will be removed in a future version.\n",
      "Instructions for updating:\n",
      "Colocations handled automatically by placer.\n"
     ]
    },
    {
     "name": "stderr",
     "output_type": "stream",
     "text": [
      "W0706 00:29:58.667922 140047639689024 deprecation.py:323] From /home/adrian/anaconda3/envs/image-captioning/lib/python3.6/site-packages/tensorflow/python/framework/op_def_library.py:263: colocate_with (from tensorflow.python.framework.ops) is deprecated and will be removed in a future version.\n",
      "Instructions for updating:\n",
      "Colocations handled automatically by placer.\n"
     ]
    },
    {
     "name": "stdout",
     "output_type": "stream",
     "text": [
      "\n",
      "        Hiperparams:\n",
      "            - step_________________1\n",
      "            - epochs_______________15\n",
      "            - batch_size___________15\n",
      "            - factor_______________0.2,\n",
      "            - patience_____________1,\n",
      "            - weights_file_________None,\n",
      "            - units________________512\n",
      "            - dropout______________0.5\n",
      "            - activation___________leaky_relu\n",
      "            - leaky_relu_alpha_____0.3,\n",
      "            - embedding_trainable__False\n",
      "            - samples_size_________6958\n",
      "            - batchs_per_epoch_____463.8666666666667\n",
      "            - Adam optimizer:\n",
      "                - lr:_____________ 0.001\n",
      "            \n",
      "        \n"
     ]
    }
   ],
   "source": [
    "step_1 = Hiperparams(\n",
    "    step = 1,\n",
    "    epochs = 30,\n",
    "    batch_size = 15,\n",
    "    factor = 0.2,\n",
    "    patience = 1,\n",
    "    weights_file = None,\n",
    "    units = 512,\n",
    "    dropout = 0.5,\n",
    "    activation = 'leaky_relu',\n",
    "    leaky_relu_alpha = 0.3,\n",
    "    embedding_trainable = False,\n",
    "    samples_size        = len(train_samples),\n",
    "    optimizer = CRLOptimizer(\n",
    "        optimizer    = Adam(),\n",
    "        # clr          = CyclicLR(base_lr=0.001, max_lr=0.006, mode='exp_range', gamma=0.99994),\n",
    "        clr          = CyclicLR(base_lr=0.001, max_lr=0.006, mode='triangular'),\n",
    "        cycles       = 4,\n",
    "        samples_size = len(train_samples),\n",
    "        batch_size   = 15\n",
    "    )\n",
    ")\n",
    "\n",
    "step_2 = Hiperparams(\n",
    "    step                = 1,\n",
    "    epochs              = 15,\n",
    "    batch_size          = 15,\n",
    "    factor              = 0.2,\n",
    "    patience            = 1,\n",
    "    weights_file        = None,\n",
    "    units               = 512,\n",
    "    dropout             = 0.5,\n",
    "    activation          = 'leaky_relu',\n",
    "    leaky_relu_alpha    = 0.3,\n",
    "    embedding_trainable = False,\n",
    "    optimizer           = AdamOptimizer(lr = 0.001),\n",
    "    samples_size        = len(train_samples)\n",
    ")\n",
    "\n",
    "\n",
    "step_train_params = [step_2]\n",
    "\n",
    "for step in step_train_params:\n",
    "    print(str(step))"
   ]
  },
  {
   "cell_type": "markdown",
   "metadata": {},
   "source": [
    "Builder data generators uses to generate train bacth and evalidation sets:"
   ]
  },
  {
   "cell_type": "code",
   "execution_count": 35,
   "metadata": {},
   "outputs": [],
   "source": [
    "def build_train_val_data_generators(params):\n",
    "    train_generator = DataGenerator(\n",
    "        train_samples,\n",
    "        image_features,\n",
    "        word_to_index,\n",
    "        index_to_word,\n",
    "        dataset.max_desc_len(), \n",
    "        vocabulary_size,\n",
    "        batch_size=params.batch_size\n",
    "    )\n",
    "    val_generator = DataGenerator(\n",
    "        val_samples,\n",
    "        image_features,\n",
    "        word_to_index,\n",
    "        index_to_word,\n",
    "        dataset.max_desc_len(), \n",
    "        vocabulary_size,\n",
    "        batch_size=params.batch_size\n",
    "    )\n",
    "    return train_generator, val_generator"
   ]
  },
  {
   "cell_type": "markdown",
   "metadata": {},
   "source": [
    "Build callbacks used to train model:\n",
    "* ModelCheckpoint: Save model weights after each epoch.\n",
    "* AdamLearningRateTracker: Show lerning rate.\n",
    "* ReduceLROnPlateau: Use to avoid vanishing gradient.\n",
    "* MetricsPlotter: Plot metrics."
   ]
  },
  {
   "cell_type": "code",
   "execution_count": 36,
   "metadata": {},
   "outputs": [],
   "source": [
    "def build_callbacks(val_generator, params):\n",
    "    return [\n",
    "        ModelCheckpoint(\n",
    "            weights_file_path_patern,\n",
    "            monitor='val_loss', \n",
    "            # monitor='loss', \n",
    "            verbose=1,\n",
    "            save_best_only=True, \n",
    "            save_weights_only=True, \n",
    "            mode='auto',\n",
    "            period=1\n",
    "        ),\n",
    "        # AdamLearningRateTracker(evaluate_interval=50),\n",
    "        ReduceLROnPlateau(\n",
    "            monitor  = 'val_loss',\n",
    "            # monitor='loss', \n",
    "            factor   = params.factor,\n",
    "            patience = params.patience\n",
    "        ),\n",
    "        MetricsPlotter(\n",
    "            val_generator, \n",
    "            plot_interval=10, \n",
    "            evaluate_interval=10, \n",
    "            batch_size=params.batch_size\n",
    "        )\n",
    "    ]"
   ]
  },
  {
   "cell_type": "code",
   "execution_count": 67,
   "metadata": {},
   "outputs": [],
   "source": [
    "def get_weight_file(weights_path, params, callback):\n",
    "    try:\n",
    "        if params.weights_file is None:\n",
    "            weights_file = get_best_weights_file_from(weights_path)\n",
    "        else:\n",
    "            weights_file = params.weights_file        \n",
    "\n",
    "        callback(weights_file)\n",
    "    except:\n",
    "        print(\"Error to load weights\")"
   ]
  },
  {
   "cell_type": "markdown",
   "metadata": {},
   "source": [
    "Train in model:"
   ]
  },
  {
   "cell_type": "code",
   "execution_count": 49,
   "metadata": {},
   "outputs": [
    {
     "name": "stdout",
     "output_type": "stream",
     "text": [
      "embedding_7: Set trainable=false & load wordl embedding as layer weights\n",
      "Load weights from weights/8k/weights__epoch_09__loss_2.2624_val_loss_2.8860__rmse_0.0211__val_rmse_0.0220.h5\n"
     ]
    }
   ],
   "source": [
    "fit=False\n",
    "\n",
    "for params in step_train_params:\n",
    "    train_generator, val_generator = build_train_val_data_generators(params)\n",
    "\n",
    "    callbacks = build_callbacks(\n",
    "        #None,\n",
    "        val_generator, \n",
    "        params\n",
    "    )\n",
    "\n",
    "    model = build_model(\n",
    "        vocabulary_size=vocabulary_size, \n",
    "        word_embedding_vector_dim=word_embedding_vector_dim, \n",
    "        embedding_matrix=embedding_matrix, \n",
    "        optimizer=params.optimizer.optimizer,\n",
    "        activation=params.activation,\n",
    "        units=params.units, \n",
    "        dropout=params.dropout, \n",
    "        leaky_relu_alpha=params.leaky_relu_alpha,\n",
    "        embedding_trainable=params.embedding_trainable\n",
    "    )\n",
    "    # model.show()\n",
    "\n",
    "    if fit:\n",
    "        get_weight_file(weights_path, params, model.load)\n",
    "        model.fit(\n",
    "            train_generator,\n",
    "            val_generator,\n",
    "            epochs          = params.epochs, \n",
    "            steps_per_epoch = params.batchs_per_epoch, \n",
    "            callbacks       = params.optimizer.append_to(callbacks)\n",
    "        )\n",
    "        params.optimizer.graph()\n",
    "    else:\n",
    "        model.load(f'{weights_path}/weights__epoch_09__loss_2.2624_val_loss_2.8860__rmse_0.0211__val_rmse_0.0220.h5')"
   ]
  },
  {
   "cell_type": "markdown",
   "metadata": {},
   "source": [
    "## Best model output selection"
   ]
  },
  {
   "cell_type": "markdown",
   "metadata": {},
   "source": [
    "We goning to use **beam search algorith** to try to improve model results selction a mode result from k prediction over the same input sample."
   ]
  },
  {
   "cell_type": "markdown",
   "metadata": {},
   "source": [
    "First of all we nett to found K value that improve model results: "
   ]
  },
  {
   "cell_type": "code",
   "execution_count": 51,
   "metadata": {},
   "outputs": [],
   "source": [
    "search_k_finder = BeamSearchKFinder(\n",
    "    model=model,\n",
    "    word_to_index=word_to_index,\n",
    "    index_to_word=index_to_word,\n",
    "    image_features=image_features,\n",
    "    descriptions=dataset.descriptions(),\n",
    "    max_seq_len=dataset.max_desc_len()\n",
    ")"
   ]
  },
  {
   "cell_type": "code",
   "execution_count": 52,
   "metadata": {},
   "outputs": [],
   "source": [
    "random_test_samples = random_samples(test_samples, 15)\n",
    "k_values=range(1, 10 + 1, 2)"
   ]
  },
  {
   "cell_type": "code",
   "execution_count": 53,
   "metadata": {},
   "outputs": [
    {
     "name": "stderr",
     "output_type": "stream",
     "text": [
      "W0706 00:42:22.089008 140047639689024 smart_open_lib.py:379] this function is deprecated, use smart_open.open instead\n"
     ]
    },
    {
     "name": "stdout",
     "output_type": "stream",
     "text": [
      "K: 1, Mean WMDSim: 0.5520928053236482, Time: 0:00:06.944309\n"
     ]
    },
    {
     "name": "stderr",
     "output_type": "stream",
     "text": [
      "W0706 00:42:28.835103 140047639689024 smart_open_lib.py:379] this function is deprecated, use smart_open.open instead\n"
     ]
    },
    {
     "name": "stdout",
     "output_type": "stream",
     "text": [
      "K: 3, Mean WMDSim: 0.5690594790613818, Time: 0:00:08.279342\n"
     ]
    },
    {
     "name": "stderr",
     "output_type": "stream",
     "text": [
      "W0706 00:42:36.970966 140047639689024 smart_open_lib.py:379] this function is deprecated, use smart_open.open instead\n"
     ]
    },
    {
     "name": "stdout",
     "output_type": "stream",
     "text": [
      "K: 5, Mean WMDSim: 0.5751817189468319, Time: 0:00:09.712782\n"
     ]
    },
    {
     "name": "stderr",
     "output_type": "stream",
     "text": [
      "W0706 00:42:46.572726 140047639689024 smart_open_lib.py:379] this function is deprecated, use smart_open.open instead\n"
     ]
    },
    {
     "name": "stdout",
     "output_type": "stream",
     "text": [
      "K: 7, Mean WMDSim: 0.5737139269518197, Time: 0:00:11.061950\n"
     ]
    },
    {
     "name": "stderr",
     "output_type": "stream",
     "text": [
      "W0706 00:42:57.562518 140047639689024 smart_open_lib.py:379] this function is deprecated, use smart_open.open instead\n"
     ]
    },
    {
     "name": "stdout",
     "output_type": "stream",
     "text": [
      "K: 9, Mean WMDSim: 0.5746595344766088, Time: 0:00:12.708910\n"
     ]
    }
   ],
   "source": [
    "test_metrics = search_k_finder.find(samples=random_test_samples, k_values=k_values)\n",
    "test_metrics.save()"
   ]
  },
  {
   "cell_type": "code",
   "execution_count": 54,
   "metadata": {},
   "outputs": [
    {
     "name": "stdout",
     "output_type": "stream",
     "text": [
      "Best K: 5\n",
      "\n"
     ]
    },
    {
     "data": {
      "text/html": [
       "<table border=\"1\" class=\"dataframe\">\n",
       "  <thead>\n",
       "    <tr style=\"text-align: left;\">\n",
       "      <th>K</th>\n",
       "      <th>WMDSim</th>\n",
       "    </tr>\n",
       "  </thead>\n",
       "  <tbody>\n",
       "    <tr>\n",
       "      <td>5</td>\n",
       "      <td>0.575182</td>\n",
       "    </tr>\n",
       "    <tr>\n",
       "      <td>9</td>\n",
       "      <td>0.574660</td>\n",
       "    </tr>\n",
       "    <tr>\n",
       "      <td>7</td>\n",
       "      <td>0.573714</td>\n",
       "    </tr>\n",
       "    <tr>\n",
       "      <td>3</td>\n",
       "      <td>0.569059</td>\n",
       "    </tr>\n",
       "    <tr>\n",
       "      <td>1</td>\n",
       "      <td>0.552093</td>\n",
       "    </tr>\n",
       "  </tbody>\n",
       "</table>"
      ],
      "text/plain": [
       "<IPython.core.display.HTML object>"
      ]
     },
     "metadata": {},
     "output_type": "display_data"
    },
    {
     "data": {
      "image/png": "[encoded data removed]",
      "text/plain": [
       "<matplotlib.figure.Figure at 0x7f5e404d9c18>"
      ]
     },
     "metadata": {
      "needs_background": "light"
     },
     "output_type": "display_data"
    },
    {
     "data": {
      "image/png": "[encoded data removed]",
      "text/plain": [
       "<matplotlib.figure.Figure at 0x7f5e404f6be0>"
      ]
     },
     "metadata": {
      "needs_background": "light"
     },
     "output_type": "display_data"
    }
   ],
   "source": [
    "test_metrics.load()\n",
    "test_metrics.show()"
   ]
  },
  {
   "cell_type": "code",
   "execution_count": 55,
   "metadata": {},
   "outputs": [
    {
     "name": "stderr",
     "output_type": "stream",
     "text": [
      "W0706 00:43:11.309253 140047639689024 smart_open_lib.py:379] this function is deprecated, use smart_open.open instead\n"
     ]
    },
    {
     "name": "stdout",
     "output_type": "stream",
     "text": [
      "K: 1, Mean WMDSim: 0.6123775677596798, Time: 0:00:07.383342\n"
     ]
    },
    {
     "name": "stderr",
     "output_type": "stream",
     "text": [
      "W0706 00:43:18.080046 140047639689024 smart_open_lib.py:379] this function is deprecated, use smart_open.open instead\n"
     ]
    },
    {
     "name": "stdout",
     "output_type": "stream",
     "text": [
      "K: 3, Mean WMDSim: 0.6142801224312111, Time: 0:00:08.607505\n"
     ]
    },
    {
     "name": "stderr",
     "output_type": "stream",
     "text": [
      "W0706 00:43:26.732297 140047639689024 smart_open_lib.py:379] this function is deprecated, use smart_open.open instead\n"
     ]
    },
    {
     "name": "stdout",
     "output_type": "stream",
     "text": [
      "K: 5, Mean WMDSim: 0.6164202766777549, Time: 0:00:11.198151\n"
     ]
    },
    {
     "name": "stderr",
     "output_type": "stream",
     "text": [
      "W0706 00:43:38.690738 140047639689024 smart_open_lib.py:379] this function is deprecated, use smart_open.open instead\n"
     ]
    },
    {
     "name": "stdout",
     "output_type": "stream",
     "text": [
      "K: 7, Mean WMDSim: 0.6093771150970018, Time: 0:00:13.766120\n"
     ]
    },
    {
     "name": "stderr",
     "output_type": "stream",
     "text": [
      "W0706 00:43:51.788149 140047639689024 smart_open_lib.py:379] this function is deprecated, use smart_open.open instead\n"
     ]
    },
    {
     "name": "stdout",
     "output_type": "stream",
     "text": [
      "K: 9, Mean WMDSim: 0.6109393663087005, Time: 0:00:14.281281\n",
      "Best K: 5\n",
      "\n"
     ]
    },
    {
     "data": {
      "text/html": [
       "<table border=\"1\" class=\"dataframe\">\n",
       "  <thead>\n",
       "    <tr style=\"text-align: left;\">\n",
       "      <th>K</th>\n",
       "      <th>WMDSim</th>\n",
       "    </tr>\n",
       "  </thead>\n",
       "  <tbody>\n",
       "    <tr>\n",
       "      <td>5</td>\n",
       "      <td>0.616420</td>\n",
       "    </tr>\n",
       "    <tr>\n",
       "      <td>3</td>\n",
       "      <td>0.614280</td>\n",
       "    </tr>\n",
       "    <tr>\n",
       "      <td>1</td>\n",
       "      <td>0.612378</td>\n",
       "    </tr>\n",
       "    <tr>\n",
       "      <td>9</td>\n",
       "      <td>0.610939</td>\n",
       "    </tr>\n",
       "    <tr>\n",
       "      <td>7</td>\n",
       "      <td>0.609377</td>\n",
       "    </tr>\n",
       "  </tbody>\n",
       "</table>"
      ],
      "text/plain": [
       "<IPython.core.display.HTML object>"
      ]
     },
     "metadata": {},
     "output_type": "display_data"
    },
    {
     "data": {
      "image/png": "[encoded data removed]",
      "text/plain": [
       "<matplotlib.figure.Figure at 0x7f5e4044beb8>"
      ]
     },
     "metadata": {
      "needs_background": "light"
     },
     "output_type": "display_data"
    },
    {
     "data": {
      "image/png": "[encoded data removed]",
      "text/plain": [
       "<matplotlib.figure.Figure at 0x7f5e0c350438>"
      ]
     },
     "metadata": {
      "needs_background": "light"
     },
     "output_type": "display_data"
    }
   ],
   "source": [
    "random_train_samples = random_samples(train_samples, 15)\n",
    "k_values=range(1, 10 + 1, 2)\n",
    "\n",
    "train_metrics = search_k_finder.find(samples=random_train_samples, k_values=k_values)\n",
    "train_metrics.show()"
   ]
  },
  {
   "cell_type": "markdown",
   "metadata": {},
   "source": [
    "## Test model"
   ]
  },
  {
   "cell_type": "code",
   "execution_count": 42,
   "metadata": {},
   "outputs": [],
   "source": [
    "class TestInspector:\n",
    "    def __init__(self, k_values):\n",
    "        self.inspectors = [(k, self.__create_inspector(k=k)) for k in k_values]\n",
    "\n",
    "    def __create_inspector(self, k):\n",
    "        return PredictionInspectorFactory.create_inspector(\n",
    "            model,\n",
    "            word_to_index,\n",
    "            index_to_word,\n",
    "            image_features,\n",
    "            dataset.descriptions(),\n",
    "            dataset.max_desc_len(),\n",
    "            k,\n",
    "            verbose=False\n",
    "        )\n",
    "\n",
    "    def inpect(self, sample):\n",
    "        for k, inspector in self.inspectors:\n",
    "            print(f'K={k}')\n",
    "            inspector.inspect(sample)\n",
    "        "
   ]
  },
  {
   "cell_type": "code",
   "execution_count": null,
   "metadata": {},
   "outputs": [],
   "source": [
    "test_inspector = TestInspector(k_values=[3])\n",
    "# test_inspector = TestInspector(k_values=[test_metrics.best_k()])\n",
    "\n",
    "for sample in random_samples(test_samples, 10):\n",
    "    test_inspector.inpect(sample)"
   ]
  }
 ],
 "metadata": {
  "kernelspec": {
   "display_name": "Python 3",
   "language": "python",
   "name": "python3"
  },
  "language_info": {
   "codemirror_mode": {
    "name": "ipython",
    "version": 3
   },
   "file_extension": ".py",
   "mimetype": "text/x-python",
   "name": "python",
   "nbconvert_exporter": "python",
   "pygments_lexer": "ipython3",
   "version": "3.6.0"
  }
 },
 "nbformat": 4,
 "nbformat_minor": 2
}
